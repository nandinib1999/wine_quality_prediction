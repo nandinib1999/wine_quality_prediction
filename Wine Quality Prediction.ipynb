{
 "cells": [
  {
   "cell_type": "code",
   "execution_count": 1,
   "metadata": {},
   "outputs": [],
   "source": [
    "import pandas as pd\n",
    "inp_path = \"red-wine-quality-cortez-et-al-2009/winequality-red.csv\"\n",
    "\n",
    "df = pd.read_csv(inp_path)"
   ]
  },
  {
   "cell_type": "code",
   "execution_count": 2,
   "metadata": {},
   "outputs": [
    {
     "data": {
      "text/html": [
       "<div>\n",
       "<style scoped>\n",
       "    .dataframe tbody tr th:only-of-type {\n",
       "        vertical-align: middle;\n",
       "    }\n",
       "\n",
       "    .dataframe tbody tr th {\n",
       "        vertical-align: top;\n",
       "    }\n",
       "\n",
       "    .dataframe thead th {\n",
       "        text-align: right;\n",
       "    }\n",
       "</style>\n",
       "<table border=\"1\" class=\"dataframe\">\n",
       "  <thead>\n",
       "    <tr style=\"text-align: right;\">\n",
       "      <th></th>\n",
       "      <th>fixed acidity</th>\n",
       "      <th>volatile acidity</th>\n",
       "      <th>citric acid</th>\n",
       "      <th>residual sugar</th>\n",
       "      <th>chlorides</th>\n",
       "      <th>free sulfur dioxide</th>\n",
       "      <th>total sulfur dioxide</th>\n",
       "      <th>density</th>\n",
       "      <th>pH</th>\n",
       "      <th>sulphates</th>\n",
       "      <th>alcohol</th>\n",
       "      <th>quality</th>\n",
       "    </tr>\n",
       "  </thead>\n",
       "  <tbody>\n",
       "    <tr>\n",
       "      <th>0</th>\n",
       "      <td>7.4</td>\n",
       "      <td>0.70</td>\n",
       "      <td>0.00</td>\n",
       "      <td>1.9</td>\n",
       "      <td>0.076</td>\n",
       "      <td>11.0</td>\n",
       "      <td>34.0</td>\n",
       "      <td>0.9978</td>\n",
       "      <td>3.51</td>\n",
       "      <td>0.56</td>\n",
       "      <td>9.4</td>\n",
       "      <td>5</td>\n",
       "    </tr>\n",
       "    <tr>\n",
       "      <th>1</th>\n",
       "      <td>7.8</td>\n",
       "      <td>0.88</td>\n",
       "      <td>0.00</td>\n",
       "      <td>2.6</td>\n",
       "      <td>0.098</td>\n",
       "      <td>25.0</td>\n",
       "      <td>67.0</td>\n",
       "      <td>0.9968</td>\n",
       "      <td>3.20</td>\n",
       "      <td>0.68</td>\n",
       "      <td>9.8</td>\n",
       "      <td>5</td>\n",
       "    </tr>\n",
       "    <tr>\n",
       "      <th>2</th>\n",
       "      <td>7.8</td>\n",
       "      <td>0.76</td>\n",
       "      <td>0.04</td>\n",
       "      <td>2.3</td>\n",
       "      <td>0.092</td>\n",
       "      <td>15.0</td>\n",
       "      <td>54.0</td>\n",
       "      <td>0.9970</td>\n",
       "      <td>3.26</td>\n",
       "      <td>0.65</td>\n",
       "      <td>9.8</td>\n",
       "      <td>5</td>\n",
       "    </tr>\n",
       "    <tr>\n",
       "      <th>3</th>\n",
       "      <td>11.2</td>\n",
       "      <td>0.28</td>\n",
       "      <td>0.56</td>\n",
       "      <td>1.9</td>\n",
       "      <td>0.075</td>\n",
       "      <td>17.0</td>\n",
       "      <td>60.0</td>\n",
       "      <td>0.9980</td>\n",
       "      <td>3.16</td>\n",
       "      <td>0.58</td>\n",
       "      <td>9.8</td>\n",
       "      <td>6</td>\n",
       "    </tr>\n",
       "    <tr>\n",
       "      <th>4</th>\n",
       "      <td>7.4</td>\n",
       "      <td>0.70</td>\n",
       "      <td>0.00</td>\n",
       "      <td>1.9</td>\n",
       "      <td>0.076</td>\n",
       "      <td>11.0</td>\n",
       "      <td>34.0</td>\n",
       "      <td>0.9978</td>\n",
       "      <td>3.51</td>\n",
       "      <td>0.56</td>\n",
       "      <td>9.4</td>\n",
       "      <td>5</td>\n",
       "    </tr>\n",
       "  </tbody>\n",
       "</table>\n",
       "</div>"
      ],
      "text/plain": [
       "   fixed acidity  volatile acidity  citric acid  residual sugar  chlorides  \\\n",
       "0            7.4              0.70         0.00             1.9      0.076   \n",
       "1            7.8              0.88         0.00             2.6      0.098   \n",
       "2            7.8              0.76         0.04             2.3      0.092   \n",
       "3           11.2              0.28         0.56             1.9      0.075   \n",
       "4            7.4              0.70         0.00             1.9      0.076   \n",
       "\n",
       "   free sulfur dioxide  total sulfur dioxide  density    pH  sulphates  \\\n",
       "0                 11.0                  34.0   0.9978  3.51       0.56   \n",
       "1                 25.0                  67.0   0.9968  3.20       0.68   \n",
       "2                 15.0                  54.0   0.9970  3.26       0.65   \n",
       "3                 17.0                  60.0   0.9980  3.16       0.58   \n",
       "4                 11.0                  34.0   0.9978  3.51       0.56   \n",
       "\n",
       "   alcohol  quality  \n",
       "0      9.4        5  \n",
       "1      9.8        5  \n",
       "2      9.8        5  \n",
       "3      9.8        6  \n",
       "4      9.4        5  "
      ]
     },
     "execution_count": 2,
     "metadata": {},
     "output_type": "execute_result"
    }
   ],
   "source": [
    "df.head()"
   ]
  },
  {
   "cell_type": "code",
   "execution_count": 3,
   "metadata": {},
   "outputs": [],
   "source": [
    "%matplotlib inline"
   ]
  },
  {
   "cell_type": "code",
   "execution_count": 4,
   "metadata": {},
   "outputs": [
    {
     "name": "stdout",
     "output_type": "stream",
     "text": [
      "<class 'pandas.core.frame.DataFrame'>\n",
      "RangeIndex: 1599 entries, 0 to 1598\n",
      "Data columns (total 12 columns):\n",
      "fixed acidity           1599 non-null float64\n",
      "volatile acidity        1599 non-null float64\n",
      "citric acid             1599 non-null float64\n",
      "residual sugar          1599 non-null float64\n",
      "chlorides               1599 non-null float64\n",
      "free sulfur dioxide     1599 non-null float64\n",
      "total sulfur dioxide    1599 non-null float64\n",
      "density                 1599 non-null float64\n",
      "pH                      1599 non-null float64\n",
      "sulphates               1599 non-null float64\n",
      "alcohol                 1599 non-null float64\n",
      "quality                 1599 non-null int64\n",
      "dtypes: float64(11), int64(1)\n",
      "memory usage: 150.0 KB\n"
     ]
    }
   ],
   "source": [
    "df.info()"
   ]
  },
  {
   "cell_type": "code",
   "execution_count": 5,
   "metadata": {},
   "outputs": [
    {
     "data": {
      "text/html": [
       "<div>\n",
       "<style scoped>\n",
       "    .dataframe tbody tr th:only-of-type {\n",
       "        vertical-align: middle;\n",
       "    }\n",
       "\n",
       "    .dataframe tbody tr th {\n",
       "        vertical-align: top;\n",
       "    }\n",
       "\n",
       "    .dataframe thead th {\n",
       "        text-align: right;\n",
       "    }\n",
       "</style>\n",
       "<table border=\"1\" class=\"dataframe\">\n",
       "  <thead>\n",
       "    <tr style=\"text-align: right;\">\n",
       "      <th></th>\n",
       "      <th>fixed acidity</th>\n",
       "      <th>volatile acidity</th>\n",
       "      <th>citric acid</th>\n",
       "      <th>residual sugar</th>\n",
       "      <th>chlorides</th>\n",
       "      <th>free sulfur dioxide</th>\n",
       "      <th>total sulfur dioxide</th>\n",
       "      <th>density</th>\n",
       "      <th>pH</th>\n",
       "      <th>sulphates</th>\n",
       "      <th>alcohol</th>\n",
       "      <th>quality</th>\n",
       "    </tr>\n",
       "  </thead>\n",
       "  <tbody>\n",
       "    <tr>\n",
       "      <th>count</th>\n",
       "      <td>1599.000000</td>\n",
       "      <td>1599.000000</td>\n",
       "      <td>1599.000000</td>\n",
       "      <td>1599.000000</td>\n",
       "      <td>1599.000000</td>\n",
       "      <td>1599.000000</td>\n",
       "      <td>1599.000000</td>\n",
       "      <td>1599.000000</td>\n",
       "      <td>1599.000000</td>\n",
       "      <td>1599.000000</td>\n",
       "      <td>1599.000000</td>\n",
       "      <td>1599.000000</td>\n",
       "    </tr>\n",
       "    <tr>\n",
       "      <th>mean</th>\n",
       "      <td>8.319637</td>\n",
       "      <td>0.527821</td>\n",
       "      <td>0.270976</td>\n",
       "      <td>2.538806</td>\n",
       "      <td>0.087467</td>\n",
       "      <td>15.874922</td>\n",
       "      <td>46.467792</td>\n",
       "      <td>0.996747</td>\n",
       "      <td>3.311113</td>\n",
       "      <td>0.658149</td>\n",
       "      <td>10.422983</td>\n",
       "      <td>5.636023</td>\n",
       "    </tr>\n",
       "    <tr>\n",
       "      <th>std</th>\n",
       "      <td>1.741096</td>\n",
       "      <td>0.179060</td>\n",
       "      <td>0.194801</td>\n",
       "      <td>1.409928</td>\n",
       "      <td>0.047065</td>\n",
       "      <td>10.460157</td>\n",
       "      <td>32.895324</td>\n",
       "      <td>0.001887</td>\n",
       "      <td>0.154386</td>\n",
       "      <td>0.169507</td>\n",
       "      <td>1.065668</td>\n",
       "      <td>0.807569</td>\n",
       "    </tr>\n",
       "    <tr>\n",
       "      <th>min</th>\n",
       "      <td>4.600000</td>\n",
       "      <td>0.120000</td>\n",
       "      <td>0.000000</td>\n",
       "      <td>0.900000</td>\n",
       "      <td>0.012000</td>\n",
       "      <td>1.000000</td>\n",
       "      <td>6.000000</td>\n",
       "      <td>0.990070</td>\n",
       "      <td>2.740000</td>\n",
       "      <td>0.330000</td>\n",
       "      <td>8.400000</td>\n",
       "      <td>3.000000</td>\n",
       "    </tr>\n",
       "    <tr>\n",
       "      <th>25%</th>\n",
       "      <td>7.100000</td>\n",
       "      <td>0.390000</td>\n",
       "      <td>0.090000</td>\n",
       "      <td>1.900000</td>\n",
       "      <td>0.070000</td>\n",
       "      <td>7.000000</td>\n",
       "      <td>22.000000</td>\n",
       "      <td>0.995600</td>\n",
       "      <td>3.210000</td>\n",
       "      <td>0.550000</td>\n",
       "      <td>9.500000</td>\n",
       "      <td>5.000000</td>\n",
       "    </tr>\n",
       "    <tr>\n",
       "      <th>50%</th>\n",
       "      <td>7.900000</td>\n",
       "      <td>0.520000</td>\n",
       "      <td>0.260000</td>\n",
       "      <td>2.200000</td>\n",
       "      <td>0.079000</td>\n",
       "      <td>14.000000</td>\n",
       "      <td>38.000000</td>\n",
       "      <td>0.996750</td>\n",
       "      <td>3.310000</td>\n",
       "      <td>0.620000</td>\n",
       "      <td>10.200000</td>\n",
       "      <td>6.000000</td>\n",
       "    </tr>\n",
       "    <tr>\n",
       "      <th>75%</th>\n",
       "      <td>9.200000</td>\n",
       "      <td>0.640000</td>\n",
       "      <td>0.420000</td>\n",
       "      <td>2.600000</td>\n",
       "      <td>0.090000</td>\n",
       "      <td>21.000000</td>\n",
       "      <td>62.000000</td>\n",
       "      <td>0.997835</td>\n",
       "      <td>3.400000</td>\n",
       "      <td>0.730000</td>\n",
       "      <td>11.100000</td>\n",
       "      <td>6.000000</td>\n",
       "    </tr>\n",
       "    <tr>\n",
       "      <th>max</th>\n",
       "      <td>15.900000</td>\n",
       "      <td>1.580000</td>\n",
       "      <td>1.000000</td>\n",
       "      <td>15.500000</td>\n",
       "      <td>0.611000</td>\n",
       "      <td>72.000000</td>\n",
       "      <td>289.000000</td>\n",
       "      <td>1.003690</td>\n",
       "      <td>4.010000</td>\n",
       "      <td>2.000000</td>\n",
       "      <td>14.900000</td>\n",
       "      <td>8.000000</td>\n",
       "    </tr>\n",
       "  </tbody>\n",
       "</table>\n",
       "</div>"
      ],
      "text/plain": [
       "       fixed acidity  volatile acidity  citric acid  residual sugar  \\\n",
       "count    1599.000000       1599.000000  1599.000000     1599.000000   \n",
       "mean        8.319637          0.527821     0.270976        2.538806   \n",
       "std         1.741096          0.179060     0.194801        1.409928   \n",
       "min         4.600000          0.120000     0.000000        0.900000   \n",
       "25%         7.100000          0.390000     0.090000        1.900000   \n",
       "50%         7.900000          0.520000     0.260000        2.200000   \n",
       "75%         9.200000          0.640000     0.420000        2.600000   \n",
       "max        15.900000          1.580000     1.000000       15.500000   \n",
       "\n",
       "         chlorides  free sulfur dioxide  total sulfur dioxide      density  \\\n",
       "count  1599.000000          1599.000000           1599.000000  1599.000000   \n",
       "mean      0.087467            15.874922             46.467792     0.996747   \n",
       "std       0.047065            10.460157             32.895324     0.001887   \n",
       "min       0.012000             1.000000              6.000000     0.990070   \n",
       "25%       0.070000             7.000000             22.000000     0.995600   \n",
       "50%       0.079000            14.000000             38.000000     0.996750   \n",
       "75%       0.090000            21.000000             62.000000     0.997835   \n",
       "max       0.611000            72.000000            289.000000     1.003690   \n",
       "\n",
       "                pH    sulphates      alcohol      quality  \n",
       "count  1599.000000  1599.000000  1599.000000  1599.000000  \n",
       "mean      3.311113     0.658149    10.422983     5.636023  \n",
       "std       0.154386     0.169507     1.065668     0.807569  \n",
       "min       2.740000     0.330000     8.400000     3.000000  \n",
       "25%       3.210000     0.550000     9.500000     5.000000  \n",
       "50%       3.310000     0.620000    10.200000     6.000000  \n",
       "75%       3.400000     0.730000    11.100000     6.000000  \n",
       "max       4.010000     2.000000    14.900000     8.000000  "
      ]
     },
     "execution_count": 5,
     "metadata": {},
     "output_type": "execute_result"
    }
   ],
   "source": [
    "df.describe()"
   ]
  },
  {
   "cell_type": "code",
   "execution_count": 6,
   "metadata": {},
   "outputs": [
    {
     "data": {
      "text/plain": [
       "fixed acidity           False\n",
       "volatile acidity        False\n",
       "citric acid             False\n",
       "residual sugar          False\n",
       "chlorides               False\n",
       "free sulfur dioxide     False\n",
       "total sulfur dioxide    False\n",
       "density                 False\n",
       "pH                      False\n",
       "sulphates               False\n",
       "alcohol                 False\n",
       "quality                 False\n",
       "dtype: bool"
      ]
     },
     "execution_count": 6,
     "metadata": {},
     "output_type": "execute_result"
    }
   ],
   "source": [
    "df.isnull().any()"
   ]
  },
  {
   "cell_type": "code",
   "execution_count": 7,
   "metadata": {},
   "outputs": [
    {
     "data": {
      "text/plain": [
       "<matplotlib.axes._subplots.AxesSubplot at 0x1d86db8bfd0>"
      ]
     },
     "execution_count": 7,
     "metadata": {},
     "output_type": "execute_result"
    },
    {
     "data": {
      "image/png": "[encoded data removed]",
      "text/plain": [
       "<Figure size 432x288 with 1 Axes>"
      ]
     },
     "metadata": {
      "needs_background": "light"
     },
     "output_type": "display_data"
    }
   ],
   "source": [
    "import seaborn as sns\n",
    "import matplotlib.pyplot as plt\n",
    "sns.countplot(x='quality', data=df)"
   ]
  },
  {
   "cell_type": "code",
   "execution_count": 8,
   "metadata": {},
   "outputs": [
    {
     "data": {
      "text/plain": [
       "5    681\n",
       "6    638\n",
       "7    199\n",
       "4     53\n",
       "8     18\n",
       "3     10\n",
       "Name: quality, dtype: int64"
      ]
     },
     "execution_count": 8,
     "metadata": {},
     "output_type": "execute_result"
    }
   ],
   "source": [
    "mydf = df['quality'].value_counts()\n",
    "mydf"
   ]
  },
  {
   "cell_type": "code",
   "execution_count": 9,
   "metadata": {},
   "outputs": [
    {
     "data": {
      "text/plain": [
       "<BarContainer object of 6 artists>"
      ]
     },
     "execution_count": 9,
     "metadata": {},
     "output_type": "execute_result"
    },
    {
     "data": {
      "image/png": "[encoded data removed]",
      "text/plain": [
       "<Figure size 432x288 with 1 Axes>"
      ]
     },
     "metadata": {
      "needs_background": "light"
     },
     "output_type": "display_data"
    }
   ],
   "source": [
    "plt.bar(df['quality'].unique(), mydf)"
   ]
  },
  {
   "cell_type": "code",
   "execution_count": 10,
   "metadata": {},
   "outputs": [
    {
     "data": {
      "text/plain": [
       "<matplotlib.axes._subplots.AxesSubplot at 0x1d86dfaeb00>"
      ]
     },
     "execution_count": 10,
     "metadata": {},
     "output_type": "execute_result"
    },
    {
     "data": {
      "image/png": "[encoded data removed]",
      "text/plain": [
       "<Figure size 432x288 with 1 Axes>"
      ]
     },
     "metadata": {
      "needs_background": "light"
     },
     "output_type": "display_data"
    }
   ],
   "source": [
    "sns.barplot(x='quality', y='fixed acidity', data=df)"
   ]
  },
  {
   "cell_type": "code",
   "execution_count": 11,
   "metadata": {
    "scrolled": true
   },
   "outputs": [
    {
     "data": {
      "text/plain": [
       "<matplotlib.axes._subplots.AxesSubplot at 0x1d86e027b70>"
      ]
     },
     "execution_count": 11,
     "metadata": {},
     "output_type": "execute_result"
    },
    {
     "data": {
      "image/png": "[encoded data removed]",
      "text/plain": [
       "<Figure size 864x720 with 2 Axes>"
      ]
     },
     "metadata": {
      "needs_background": "light"
     },
     "output_type": "display_data"
    }
   ],
   "source": [
    "f, ax = plt.subplots(figsize =(12,10)) \n",
    "sns.heatmap(df.corr(), ax = ax, cmap =\"YlGnBu\", linewidths = 0.1) "
   ]
  },
  {
   "cell_type": "code",
   "execution_count": 12,
   "metadata": {},
   "outputs": [
    {
     "data": {
      "text/html": [
       "<style  type=\"text/css\" >\n",
       "    #T_769f29ca_4385_11ea_a474_107d1a353dc0row0_col0 {\n",
       "            background-color:  #081d58;\n",
       "            color:  #f1f1f1;\n",
       "        }    #T_769f29ca_4385_11ea_a474_107d1a353dc0row0_col1 {\n",
       "            background-color:  #daf0b3;\n",
       "            color:  #000000;\n",
       "        }    #T_769f29ca_4385_11ea_a474_107d1a353dc0row0_col2 {\n",
       "            background-color:  #2351a2;\n",
       "            color:  #f1f1f1;\n",
       "        }    #T_769f29ca_4385_11ea_a474_107d1a353dc0row0_col3 {\n",
       "            background-color:  #dbf1b2;\n",
       "            color:  #000000;\n",
       "        }    #T_769f29ca_4385_11ea_a474_107d1a353dc0row0_col4 {\n",
       "            background-color:  #b4e2b6;\n",
       "            color:  #000000;\n",
       "        }    #T_769f29ca_4385_11ea_a474_107d1a353dc0row0_col5 {\n",
       "            background-color:  #ffffd9;\n",
       "            color:  #000000;\n",
       "        }    #T_769f29ca_4385_11ea_a474_107d1a353dc0row0_col6 {\n",
       "            background-color:  #f4fbc1;\n",
       "            color:  #000000;\n",
       "        }    #T_769f29ca_4385_11ea_a474_107d1a353dc0row0_col7 {\n",
       "            background-color:  #2354a3;\n",
       "            color:  #f1f1f1;\n",
       "        }    #T_769f29ca_4385_11ea_a474_107d1a353dc0row0_col8 {\n",
       "            background-color:  #ffffd9;\n",
       "            color:  #000000;\n",
       "        }    #T_769f29ca_4385_11ea_a474_107d1a353dc0row0_col9 {\n",
       "            background-color:  #8cd2ba;\n",
       "            color:  #000000;\n",
       "        }    #T_769f29ca_4385_11ea_a474_107d1a353dc0row0_col10 {\n",
       "            background-color:  #b0e0b6;\n",
       "            color:  #000000;\n",
       "        }    #T_769f29ca_4385_11ea_a474_107d1a353dc0row0_col11 {\n",
       "            background-color:  #83cebb;\n",
       "            color:  #000000;\n",
       "        }    #T_769f29ca_4385_11ea_a474_107d1a353dc0row1_col0 {\n",
       "            background-color:  #c6e9b4;\n",
       "            color:  #000000;\n",
       "        }    #T_769f29ca_4385_11ea_a474_107d1a353dc0row1_col1 {\n",
       "            background-color:  #081d58;\n",
       "            color:  #f1f1f1;\n",
       "        }    #T_769f29ca_4385_11ea_a474_107d1a353dc0row1_col2 {\n",
       "            background-color:  #ffffd9;\n",
       "            color:  #000000;\n",
       "        }    #T_769f29ca_4385_11ea_a474_107d1a353dc0row1_col3 {\n",
       "            background-color:  #f4fbc0;\n",
       "            color:  #000000;\n",
       "        }    #T_769f29ca_4385_11ea_a474_107d1a353dc0row1_col4 {\n",
       "            background-color:  #c2e7b4;\n",
       "            color:  #000000;\n",
       "        }    #T_769f29ca_4385_11ea_a474_107d1a353dc0row1_col5 {\n",
       "            background-color:  #edf8b2;\n",
       "            color:  #000000;\n",
       "        }    #T_769f29ca_4385_11ea_a474_107d1a353dc0row1_col6 {\n",
       "            background-color:  #cdebb4;\n",
       "            color:  #000000;\n",
       "        }    #T_769f29ca_4385_11ea_a474_107d1a353dc0row1_col7 {\n",
       "            background-color:  #90d4b9;\n",
       "            color:  #000000;\n",
       "        }    #T_769f29ca_4385_11ea_a474_107d1a353dc0row1_col8 {\n",
       "            background-color:  #34a9c3;\n",
       "            color:  #000000;\n",
       "        }    #T_769f29ca_4385_11ea_a474_107d1a353dc0row1_col9 {\n",
       "            background-color:  #ffffd9;\n",
       "            color:  #000000;\n",
       "        }    #T_769f29ca_4385_11ea_a474_107d1a353dc0row1_col10 {\n",
       "            background-color:  #d7efb3;\n",
       "            color:  #000000;\n",
       "        }    #T_769f29ca_4385_11ea_a474_107d1a353dc0row1_col11 {\n",
       "            background-color:  #ffffd9;\n",
       "            color:  #000000;\n",
       "        }    #T_769f29ca_4385_11ea_a474_107d1a353dc0row2_col0 {\n",
       "            background-color:  #234b9f;\n",
       "            color:  #f1f1f1;\n",
       "        }    #T_769f29ca_4385_11ea_a474_107d1a353dc0row2_col1 {\n",
       "            background-color:  #ffffd9;\n",
       "            color:  #000000;\n",
       "        }    #T_769f29ca_4385_11ea_a474_107d1a353dc0row2_col2 {\n",
       "            background-color:  #081d58;\n",
       "            color:  #f1f1f1;\n",
       "        }    #T_769f29ca_4385_11ea_a474_107d1a353dc0row2_col3 {\n",
       "            background-color:  #d3eeb3;\n",
       "            color:  #000000;\n",
       "        }    #T_769f29ca_4385_11ea_a474_107d1a353dc0row2_col4 {\n",
       "            background-color:  #83cebb;\n",
       "            color:  #000000;\n",
       "        }    #T_769f29ca_4385_11ea_a474_107d1a353dc0row2_col5 {\n",
       "            background-color:  #f4fbc0;\n",
       "            color:  #000000;\n",
       "        }    #T_769f29ca_4385_11ea_a474_107d1a353dc0row2_col6 {\n",
       "            background-color:  #d6efb3;\n",
       "            color:  #000000;\n",
       "        }    #T_769f29ca_4385_11ea_a474_107d1a353dc0row2_col7 {\n",
       "            background-color:  #2b9fc2;\n",
       "            color:  #000000;\n",
       "        }    #T_769f29ca_4385_11ea_a474_107d1a353dc0row2_col8 {\n",
       "            background-color:  #f3fabf;\n",
       "            color:  #000000;\n",
       "        }    #T_769f29ca_4385_11ea_a474_107d1a353dc0row2_col9 {\n",
       "            background-color:  #57bec1;\n",
       "            color:  #000000;\n",
       "        }    #T_769f29ca_4385_11ea_a474_107d1a353dc0row2_col10 {\n",
       "            background-color:  #71c8bd;\n",
       "            color:  #000000;\n",
       "        }    #T_769f29ca_4385_11ea_a474_107d1a353dc0row2_col11 {\n",
       "            background-color:  #5dc0c0;\n",
       "            color:  #000000;\n",
       "        }    #T_769f29ca_4385_11ea_a474_107d1a353dc0row3_col0 {\n",
       "            background-color:  #4ebbc2;\n",
       "            color:  #000000;\n",
       "        }    #T_769f29ca_4385_11ea_a474_107d1a353dc0row3_col1 {\n",
       "            background-color:  #89d1ba;\n",
       "            color:  #000000;\n",
       "        }    #T_769f29ca_4385_11ea_a474_107d1a353dc0row3_col2 {\n",
       "            background-color:  #5bc0c0;\n",
       "            color:  #000000;\n",
       "        }    #T_769f29ca_4385_11ea_a474_107d1a353dc0row3_col3 {\n",
       "            background-color:  #081d58;\n",
       "            color:  #f1f1f1;\n",
       "        }    #T_769f29ca_4385_11ea_a474_107d1a353dc0row3_col4 {\n",
       "            background-color:  #c6e9b4;\n",
       "            color:  #000000;\n",
       "        }    #T_769f29ca_4385_11ea_a474_107d1a353dc0row3_col5 {\n",
       "            background-color:  #aedfb6;\n",
       "            color:  #000000;\n",
       "        }    #T_769f29ca_4385_11ea_a474_107d1a353dc0row3_col6 {\n",
       "            background-color:  #95d5b9;\n",
       "            color:  #000000;\n",
       "        }    #T_769f29ca_4385_11ea_a474_107d1a353dc0row3_col7 {\n",
       "            background-color:  #2da2c2;\n",
       "            color:  #000000;\n",
       "        }    #T_769f29ca_4385_11ea_a474_107d1a353dc0row3_col8 {\n",
       "            background-color:  #8cd2ba;\n",
       "            color:  #000000;\n",
       "        }    #T_769f29ca_4385_11ea_a474_107d1a353dc0row3_col9 {\n",
       "            background-color:  #d3eeb3;\n",
       "            color:  #000000;\n",
       "        }    #T_769f29ca_4385_11ea_a474_107d1a353dc0row3_col10 {\n",
       "            background-color:  #87d0ba;\n",
       "            color:  #000000;\n",
       "        }    #T_769f29ca_4385_11ea_a474_107d1a353dc0row3_col11 {\n",
       "            background-color:  #b0e0b6;\n",
       "            color:  #000000;\n",
       "        }    #T_769f29ca_4385_11ea_a474_107d1a353dc0row4_col0 {\n",
       "            background-color:  #53bdc1;\n",
       "            color:  #000000;\n",
       "        }    #T_769f29ca_4385_11ea_a474_107d1a353dc0row4_col1 {\n",
       "            background-color:  #75c9bd;\n",
       "            color:  #000000;\n",
       "        }    #T_769f29ca_4385_11ea_a474_107d1a353dc0row4_col2 {\n",
       "            background-color:  #48b9c3;\n",
       "            color:  #000000;\n",
       "        }    #T_769f29ca_4385_11ea_a474_107d1a353dc0row4_col3 {\n",
       "            background-color:  #ecf7b1;\n",
       "            color:  #000000;\n",
       "        }    #T_769f29ca_4385_11ea_a474_107d1a353dc0row4_col4 {\n",
       "            background-color:  #081d58;\n",
       "            color:  #f1f1f1;\n",
       "        }    #T_769f29ca_4385_11ea_a474_107d1a353dc0row4_col5 {\n",
       "            background-color:  #e9f7b1;\n",
       "            color:  #000000;\n",
       "        }    #T_769f29ca_4385_11ea_a474_107d1a353dc0row4_col6 {\n",
       "            background-color:  #d4eeb3;\n",
       "            color:  #000000;\n",
       "        }    #T_769f29ca_4385_11ea_a474_107d1a353dc0row4_col7 {\n",
       "            background-color:  #52bcc2;\n",
       "            color:  #000000;\n",
       "        }    #T_769f29ca_4385_11ea_a474_107d1a353dc0row4_col8 {\n",
       "            background-color:  #c8e9b4;\n",
       "            color:  #000000;\n",
       "        }    #T_769f29ca_4385_11ea_a474_107d1a353dc0row4_col9 {\n",
       "            background-color:  #40b5c4;\n",
       "            color:  #000000;\n",
       "        }    #T_769f29ca_4385_11ea_a474_107d1a353dc0row4_col10 {\n",
       "            background-color:  #dbf1b2;\n",
       "            color:  #000000;\n",
       "        }    #T_769f29ca_4385_11ea_a474_107d1a353dc0row4_col11 {\n",
       "            background-color:  #daf0b3;\n",
       "            color:  #000000;\n",
       "        }    #T_769f29ca_4385_11ea_a474_107d1a353dc0row5_col0 {\n",
       "            background-color:  #a2dbb8;\n",
       "            color:  #000000;\n",
       "        }    #T_769f29ca_4385_11ea_a474_107d1a353dc0row5_col1 {\n",
       "            background-color:  #8ed3ba;\n",
       "            color:  #000000;\n",
       "        }    #T_769f29ca_4385_11ea_a474_107d1a353dc0row5_col2 {\n",
       "            background-color:  #a0dab8;\n",
       "            color:  #000000;\n",
       "        }    #T_769f29ca_4385_11ea_a474_107d1a353dc0row5_col3 {\n",
       "            background-color:  #c6e9b4;\n",
       "            color:  #000000;\n",
       "        }    #T_769f29ca_4385_11ea_a474_107d1a353dc0row5_col4 {\n",
       "            background-color:  #d3eeb3;\n",
       "            color:  #000000;\n",
       "        }    #T_769f29ca_4385_11ea_a474_107d1a353dc0row5_col5 {\n",
       "            background-color:  #081d58;\n",
       "            color:  #f1f1f1;\n",
       "        }    #T_769f29ca_4385_11ea_a474_107d1a353dc0row5_col6 {\n",
       "            background-color:  #2168ad;\n",
       "            color:  #f1f1f1;\n",
       "        }    #T_769f29ca_4385_11ea_a474_107d1a353dc0row5_col7 {\n",
       "            background-color:  #a0dab8;\n",
       "            color:  #000000;\n",
       "        }    #T_769f29ca_4385_11ea_a474_107d1a353dc0row5_col8 {\n",
       "            background-color:  #5bc0c0;\n",
       "            color:  #000000;\n",
       "        }    #T_769f29ca_4385_11ea_a474_107d1a353dc0row5_col9 {\n",
       "            background-color:  #c8e9b4;\n",
       "            color:  #000000;\n",
       "        }    #T_769f29ca_4385_11ea_a474_107d1a353dc0row5_col10 {\n",
       "            background-color:  #b2e1b6;\n",
       "            color:  #000000;\n",
       "        }    #T_769f29ca_4385_11ea_a474_107d1a353dc0row5_col11 {\n",
       "            background-color:  #c9eab4;\n",
       "            color:  #000000;\n",
       "        }    #T_769f29ca_4385_11ea_a474_107d1a353dc0row6_col0 {\n",
       "            background-color:  #95d5b9;\n",
       "            color:  #000000;\n",
       "        }    #T_769f29ca_4385_11ea_a474_107d1a353dc0row6_col1 {\n",
       "            background-color:  #71c8bd;\n",
       "            color:  #000000;\n",
       "        }    #T_769f29ca_4385_11ea_a474_107d1a353dc0row6_col2 {\n",
       "            background-color:  #7ecdbb;\n",
       "            color:  #000000;\n",
       "        }    #T_769f29ca_4385_11ea_a474_107d1a353dc0row6_col3 {\n",
       "            background-color:  #bde5b5;\n",
       "            color:  #000000;\n",
       "        }    #T_769f29ca_4385_11ea_a474_107d1a353dc0row6_col4 {\n",
       "            background-color:  #c8e9b4;\n",
       "            color:  #000000;\n",
       "        }    #T_769f29ca_4385_11ea_a474_107d1a353dc0row6_col5 {\n",
       "            background-color:  #216daf;\n",
       "            color:  #f1f1f1;\n",
       "        }    #T_769f29ca_4385_11ea_a474_107d1a353dc0row6_col6 {\n",
       "            background-color:  #081d58;\n",
       "            color:  #f1f1f1;\n",
       "        }    #T_769f29ca_4385_11ea_a474_107d1a353dc0row6_col7 {\n",
       "            background-color:  #7cccbb;\n",
       "            color:  #000000;\n",
       "        }    #T_769f29ca_4385_11ea_a474_107d1a353dc0row6_col8 {\n",
       "            background-color:  #85cfba;\n",
       "            color:  #000000;\n",
       "        }    #T_769f29ca_4385_11ea_a474_107d1a353dc0row6_col9 {\n",
       "            background-color:  #caeab4;\n",
       "            color:  #000000;\n",
       "        }    #T_769f29ca_4385_11ea_a474_107d1a353dc0row6_col10 {\n",
       "            background-color:  #d9f0b3;\n",
       "            color:  #000000;\n",
       "        }    #T_769f29ca_4385_11ea_a474_107d1a353dc0row6_col11 {\n",
       "            background-color:  #e7f6b1;\n",
       "            color:  #000000;\n",
       "        }    #T_769f29ca_4385_11ea_a474_107d1a353dc0row7_col0 {\n",
       "            background-color:  #234c9f;\n",
       "            color:  #f1f1f1;\n",
       "        }    #T_769f29ca_4385_11ea_a474_107d1a353dc0row7_col1 {\n",
       "            background-color:  #83cebb;\n",
       "            color:  #000000;\n",
       "        }    #T_769f29ca_4385_11ea_a474_107d1a353dc0row7_col2 {\n",
       "            background-color:  #269bc1;\n",
       "            color:  #000000;\n",
       "        }    #T_769f29ca_4385_11ea_a474_107d1a353dc0row7_col3 {\n",
       "            background-color:  #71c8bd;\n",
       "            color:  #000000;\n",
       "        }    #T_769f29ca_4385_11ea_a474_107d1a353dc0row7_col4 {\n",
       "            background-color:  #83cebb;\n",
       "            color:  #000000;\n",
       "        }    #T_769f29ca_4385_11ea_a474_107d1a353dc0row7_col5 {\n",
       "            background-color:  #eff9b5;\n",
       "            color:  #000000;\n",
       "        }    #T_769f29ca_4385_11ea_a474_107d1a353dc0row7_col6 {\n",
       "            background-color:  #ceecb3;\n",
       "            color:  #000000;\n",
       "        }    #T_769f29ca_4385_11ea_a474_107d1a353dc0row7_col7 {\n",
       "            background-color:  #081d58;\n",
       "            color:  #f1f1f1;\n",
       "        }    #T_769f29ca_4385_11ea_a474_107d1a353dc0row7_col8 {\n",
       "            background-color:  #d6efb3;\n",
       "            color:  #000000;\n",
       "        }    #T_769f29ca_4385_11ea_a474_107d1a353dc0row7_col9 {\n",
       "            background-color:  #9cd8b8;\n",
       "            color:  #000000;\n",
       "        }    #T_769f29ca_4385_11ea_a474_107d1a353dc0row7_col10 {\n",
       "            background-color:  #ffffd9;\n",
       "            color:  #000000;\n",
       "        }    #T_769f29ca_4385_11ea_a474_107d1a353dc0row7_col11 {\n",
       "            background-color:  #e5f5b2;\n",
       "            color:  #000000;\n",
       "        }    #T_769f29ca_4385_11ea_a474_107d1a353dc0row8_col0 {\n",
       "            background-color:  #ffffd9;\n",
       "            color:  #000000;\n",
       "        }    #T_769f29ca_4385_11ea_a474_107d1a353dc0row8_col1 {\n",
       "            background-color:  #3fb4c4;\n",
       "            color:  #000000;\n",
       "        }    #T_769f29ca_4385_11ea_a474_107d1a353dc0row8_col2 {\n",
       "            background-color:  #feffd8;\n",
       "            color:  #000000;\n",
       "        }    #T_769f29ca_4385_11ea_a474_107d1a353dc0row8_col3 {\n",
       "            background-color:  #ffffd9;\n",
       "            color:  #000000;\n",
       "        }    #T_769f29ca_4385_11ea_a474_107d1a353dc0row8_col4 {\n",
       "            background-color:  #ffffd9;\n",
       "            color:  #000000;\n",
       "        }    #T_769f29ca_4385_11ea_a474_107d1a353dc0row8_col5 {\n",
       "            background-color:  #d9f0b3;\n",
       "            color:  #000000;\n",
       "        }    #T_769f29ca_4385_11ea_a474_107d1a353dc0row8_col6 {\n",
       "            background-color:  #eff9b5;\n",
       "            color:  #000000;\n",
       "        }    #T_769f29ca_4385_11ea_a474_107d1a353dc0row8_col7 {\n",
       "            background-color:  #f0f9b8;\n",
       "            color:  #000000;\n",
       "        }    #T_769f29ca_4385_11ea_a474_107d1a353dc0row8_col8 {\n",
       "            background-color:  #081d58;\n",
       "            color:  #f1f1f1;\n",
       "        }    #T_769f29ca_4385_11ea_a474_107d1a353dc0row8_col9 {\n",
       "            background-color:  #f8fcc9;\n",
       "            color:  #000000;\n",
       "        }    #T_769f29ca_4385_11ea_a474_107d1a353dc0row8_col10 {\n",
       "            background-color:  #50bbc2;\n",
       "            color:  #000000;\n",
       "        }    #T_769f29ca_4385_11ea_a474_107d1a353dc0row8_col11 {\n",
       "            background-color:  #caeab4;\n",
       "            color:  #000000;\n",
       "        }    #T_769f29ca_4385_11ea_a474_107d1a353dc0row9_col0 {\n",
       "            background-color:  #3db2c4;\n",
       "            color:  #000000;\n",
       "        }    #T_769f29ca_4385_11ea_a474_107d1a353dc0row9_col1 {\n",
       "            background-color:  #daf0b3;\n",
       "            color:  #000000;\n",
       "        }    #T_769f29ca_4385_11ea_a474_107d1a353dc0row9_col2 {\n",
       "            background-color:  #31a5c2;\n",
       "            color:  #000000;\n",
       "        }    #T_769f29ca_4385_11ea_a474_107d1a353dc0row9_col3 {\n",
       "            background-color:  #f3fabf;\n",
       "            color:  #000000;\n",
       "        }    #T_769f29ca_4385_11ea_a474_107d1a353dc0row9_col4 {\n",
       "            background-color:  #40b5c4;\n",
       "            color:  #000000;\n",
       "        }    #T_769f29ca_4385_11ea_a474_107d1a353dc0row9_col5 {\n",
       "            background-color:  #ddf2b2;\n",
       "            color:  #000000;\n",
       "        }    #T_769f29ca_4385_11ea_a474_107d1a353dc0row9_col6 {\n",
       "            background-color:  #d5efb3;\n",
       "            color:  #000000;\n",
       "        }    #T_769f29ca_4385_11ea_a474_107d1a353dc0row9_col7 {\n",
       "            background-color:  #63c3bf;\n",
       "            color:  #000000;\n",
       "        }    #T_769f29ca_4385_11ea_a474_107d1a353dc0row9_col8 {\n",
       "            background-color:  #b2e1b6;\n",
       "            color:  #000000;\n",
       "        }    #T_769f29ca_4385_11ea_a474_107d1a353dc0row9_col9 {\n",
       "            background-color:  #081d58;\n",
       "            color:  #f1f1f1;\n",
       "        }    #T_769f29ca_4385_11ea_a474_107d1a353dc0row9_col10 {\n",
       "            background-color:  #76cabc;\n",
       "            color:  #000000;\n",
       "        }    #T_769f29ca_4385_11ea_a474_107d1a353dc0row9_col11 {\n",
       "            background-color:  #53bdc1;\n",
       "            color:  #000000;\n",
       "        }    #T_769f29ca_4385_11ea_a474_107d1a353dc0row10_col0 {\n",
       "            background-color:  #83cebb;\n",
       "            color:  #000000;\n",
       "        }    #T_769f29ca_4385_11ea_a474_107d1a353dc0row10_col1 {\n",
       "            background-color:  #cfecb3;\n",
       "            color:  #000000;\n",
       "        }    #T_769f29ca_4385_11ea_a474_107d1a353dc0row10_col2 {\n",
       "            background-color:  #65c3bf;\n",
       "            color:  #000000;\n",
       "        }    #T_769f29ca_4385_11ea_a474_107d1a353dc0row10_col3 {\n",
       "            background-color:  #eef8b3;\n",
       "            color:  #000000;\n",
       "        }    #T_769f29ca_4385_11ea_a474_107d1a353dc0row10_col4 {\n",
       "            background-color:  #fafdcf;\n",
       "            color:  #000000;\n",
       "        }    #T_769f29ca_4385_11ea_a474_107d1a353dc0row10_col5 {\n",
       "            background-color:  #f5fbc2;\n",
       "            color:  #000000;\n",
       "        }    #T_769f29ca_4385_11ea_a474_107d1a353dc0row10_col6 {\n",
       "            background-color:  #ffffd9;\n",
       "            color:  #000000;\n",
       "        }    #T_769f29ca_4385_11ea_a474_107d1a353dc0row10_col7 {\n",
       "            background-color:  #ffffd9;\n",
       "            color:  #000000;\n",
       "        }    #T_769f29ca_4385_11ea_a474_107d1a353dc0row10_col8 {\n",
       "            background-color:  #39adc3;\n",
       "            color:  #000000;\n",
       "        }    #T_769f29ca_4385_11ea_a474_107d1a353dc0row10_col9 {\n",
       "            background-color:  #b7e3b6;\n",
       "            color:  #000000;\n",
       "        }    #T_769f29ca_4385_11ea_a474_107d1a353dc0row10_col10 {\n",
       "            background-color:  #081d58;\n",
       "            color:  #f1f1f1;\n",
       "        }    #T_769f29ca_4385_11ea_a474_107d1a353dc0row10_col11 {\n",
       "            background-color:  #1d91c0;\n",
       "            color:  #000000;\n",
       "        }    #T_769f29ca_4385_11ea_a474_107d1a353dc0row11_col0 {\n",
       "            background-color:  #4cbac2;\n",
       "            color:  #000000;\n",
       "        }    #T_769f29ca_4385_11ea_a474_107d1a353dc0row11_col1 {\n",
       "            background-color:  #f0f9b8;\n",
       "            color:  #000000;\n",
       "        }    #T_769f29ca_4385_11ea_a474_107d1a353dc0row11_col2 {\n",
       "            background-color:  #40b5c4;\n",
       "            color:  #000000;\n",
       "        }    #T_769f29ca_4385_11ea_a474_107d1a353dc0row11_col3 {\n",
       "            background-color:  #f2fabc;\n",
       "            color:  #000000;\n",
       "        }    #T_769f29ca_4385_11ea_a474_107d1a353dc0row11_col4 {\n",
       "            background-color:  #f0f9b7;\n",
       "            color:  #000000;\n",
       "        }    #T_769f29ca_4385_11ea_a474_107d1a353dc0row11_col5 {\n",
       "            background-color:  #f3fabd;\n",
       "            color:  #000000;\n",
       "        }    #T_769f29ca_4385_11ea_a474_107d1a353dc0row11_col6 {\n",
       "            background-color:  #fdfed4;\n",
       "            color:  #000000;\n",
       "        }    #T_769f29ca_4385_11ea_a474_107d1a353dc0row11_col7 {\n",
       "            background-color:  #d3eeb3;\n",
       "            color:  #000000;\n",
       "        }    #T_769f29ca_4385_11ea_a474_107d1a353dc0row11_col8 {\n",
       "            background-color:  #80cebb;\n",
       "            color:  #000000;\n",
       "        }    #T_769f29ca_4385_11ea_a474_107d1a353dc0row11_col9 {\n",
       "            background-color:  #6fc7bd;\n",
       "            color:  #000000;\n",
       "        }    #T_769f29ca_4385_11ea_a474_107d1a353dc0row11_col10 {\n",
       "            background-color:  #1e86bb;\n",
       "            color:  #000000;\n",
       "        }    #T_769f29ca_4385_11ea_a474_107d1a353dc0row11_col11 {\n",
       "            background-color:  #081d58;\n",
       "            color:  #f1f1f1;\n",
       "        }</style><table id=\"T_769f29ca_4385_11ea_a474_107d1a353dc0\" ><thead>    <tr>        <th class=\"blank level0\" ></th>        <th class=\"col_heading level0 col0\" >fixed acidity</th>        <th class=\"col_heading level0 col1\" >volatile acidity</th>        <th class=\"col_heading level0 col2\" >citric acid</th>        <th class=\"col_heading level0 col3\" >residual sugar</th>        <th class=\"col_heading level0 col4\" >chlorides</th>        <th class=\"col_heading level0 col5\" >free sulfur dioxide</th>        <th class=\"col_heading level0 col6\" >total sulfur dioxide</th>        <th class=\"col_heading level0 col7\" >density</th>        <th class=\"col_heading level0 col8\" >pH</th>        <th class=\"col_heading level0 col9\" >sulphates</th>        <th class=\"col_heading level0 col10\" >alcohol</th>        <th class=\"col_heading level0 col11\" >quality</th>    </tr></thead><tbody>\n",
       "                <tr>\n",
       "                        <th id=\"T_769f29ca_4385_11ea_a474_107d1a353dc0level0_row0\" class=\"row_heading level0 row0\" >fixed acidity</th>\n",
       "                        <td id=\"T_769f29ca_4385_11ea_a474_107d1a353dc0row0_col0\" class=\"data row0 col0\" >1</td>\n",
       "                        <td id=\"T_769f29ca_4385_11ea_a474_107d1a353dc0row0_col1\" class=\"data row0 col1\" >-0.26</td>\n",
       "                        <td id=\"T_769f29ca_4385_11ea_a474_107d1a353dc0row0_col2\" class=\"data row0 col2\" >0.67</td>\n",
       "                        <td id=\"T_769f29ca_4385_11ea_a474_107d1a353dc0row0_col3\" class=\"data row0 col3\" >0.11</td>\n",
       "                        <td id=\"T_769f29ca_4385_11ea_a474_107d1a353dc0row0_col4\" class=\"data row0 col4\" >0.094</td>\n",
       "                        <td id=\"T_769f29ca_4385_11ea_a474_107d1a353dc0row0_col5\" class=\"data row0 col5\" >-0.15</td>\n",
       "                        <td id=\"T_769f29ca_4385_11ea_a474_107d1a353dc0row0_col6\" class=\"data row0 col6\" >-0.11</td>\n",
       "                        <td id=\"T_769f29ca_4385_11ea_a474_107d1a353dc0row0_col7\" class=\"data row0 col7\" >0.67</td>\n",
       "                        <td id=\"T_769f29ca_4385_11ea_a474_107d1a353dc0row0_col8\" class=\"data row0 col8\" >-0.68</td>\n",
       "                        <td id=\"T_769f29ca_4385_11ea_a474_107d1a353dc0row0_col9\" class=\"data row0 col9\" >0.18</td>\n",
       "                        <td id=\"T_769f29ca_4385_11ea_a474_107d1a353dc0row0_col10\" class=\"data row0 col10\" >-0.062</td>\n",
       "                        <td id=\"T_769f29ca_4385_11ea_a474_107d1a353dc0row0_col11\" class=\"data row0 col11\" >0.12</td>\n",
       "            </tr>\n",
       "            <tr>\n",
       "                        <th id=\"T_769f29ca_4385_11ea_a474_107d1a353dc0level0_row1\" class=\"row_heading level0 row1\" >volatile acidity</th>\n",
       "                        <td id=\"T_769f29ca_4385_11ea_a474_107d1a353dc0row1_col0\" class=\"data row1 col0\" >-0.26</td>\n",
       "                        <td id=\"T_769f29ca_4385_11ea_a474_107d1a353dc0row1_col1\" class=\"data row1 col1\" >1</td>\n",
       "                        <td id=\"T_769f29ca_4385_11ea_a474_107d1a353dc0row1_col2\" class=\"data row1 col2\" >-0.55</td>\n",
       "                        <td id=\"T_769f29ca_4385_11ea_a474_107d1a353dc0row1_col3\" class=\"data row1 col3\" >0.0019</td>\n",
       "                        <td id=\"T_769f29ca_4385_11ea_a474_107d1a353dc0row1_col4\" class=\"data row1 col4\" >0.061</td>\n",
       "                        <td id=\"T_769f29ca_4385_11ea_a474_107d1a353dc0row1_col5\" class=\"data row1 col5\" >-0.011</td>\n",
       "                        <td id=\"T_769f29ca_4385_11ea_a474_107d1a353dc0row1_col6\" class=\"data row1 col6\" >0.076</td>\n",
       "                        <td id=\"T_769f29ca_4385_11ea_a474_107d1a353dc0row1_col7\" class=\"data row1 col7\" >0.022</td>\n",
       "                        <td id=\"T_769f29ca_4385_11ea_a474_107d1a353dc0row1_col8\" class=\"data row1 col8\" >0.23</td>\n",
       "                        <td id=\"T_769f29ca_4385_11ea_a474_107d1a353dc0row1_col9\" class=\"data row1 col9\" >-0.26</td>\n",
       "                        <td id=\"T_769f29ca_4385_11ea_a474_107d1a353dc0row1_col10\" class=\"data row1 col10\" >-0.2</td>\n",
       "                        <td id=\"T_769f29ca_4385_11ea_a474_107d1a353dc0row1_col11\" class=\"data row1 col11\" >-0.39</td>\n",
       "            </tr>\n",
       "            <tr>\n",
       "                        <th id=\"T_769f29ca_4385_11ea_a474_107d1a353dc0level0_row2\" class=\"row_heading level0 row2\" >citric acid</th>\n",
       "                        <td id=\"T_769f29ca_4385_11ea_a474_107d1a353dc0row2_col0\" class=\"data row2 col0\" >0.67</td>\n",
       "                        <td id=\"T_769f29ca_4385_11ea_a474_107d1a353dc0row2_col1\" class=\"data row2 col1\" >-0.55</td>\n",
       "                        <td id=\"T_769f29ca_4385_11ea_a474_107d1a353dc0row2_col2\" class=\"data row2 col2\" >1</td>\n",
       "                        <td id=\"T_769f29ca_4385_11ea_a474_107d1a353dc0row2_col3\" class=\"data row2 col3\" >0.14</td>\n",
       "                        <td id=\"T_769f29ca_4385_11ea_a474_107d1a353dc0row2_col4\" class=\"data row2 col4\" >0.2</td>\n",
       "                        <td id=\"T_769f29ca_4385_11ea_a474_107d1a353dc0row2_col5\" class=\"data row2 col5\" >-0.061</td>\n",
       "                        <td id=\"T_769f29ca_4385_11ea_a474_107d1a353dc0row2_col6\" class=\"data row2 col6\" >0.036</td>\n",
       "                        <td id=\"T_769f29ca_4385_11ea_a474_107d1a353dc0row2_col7\" class=\"data row2 col7\" >0.36</td>\n",
       "                        <td id=\"T_769f29ca_4385_11ea_a474_107d1a353dc0row2_col8\" class=\"data row2 col8\" >-0.54</td>\n",
       "                        <td id=\"T_769f29ca_4385_11ea_a474_107d1a353dc0row2_col9\" class=\"data row2 col9\" >0.31</td>\n",
       "                        <td id=\"T_769f29ca_4385_11ea_a474_107d1a353dc0row2_col10\" class=\"data row2 col10\" >0.11</td>\n",
       "                        <td id=\"T_769f29ca_4385_11ea_a474_107d1a353dc0row2_col11\" class=\"data row2 col11\" >0.23</td>\n",
       "            </tr>\n",
       "            <tr>\n",
       "                        <th id=\"T_769f29ca_4385_11ea_a474_107d1a353dc0level0_row3\" class=\"row_heading level0 row3\" >residual sugar</th>\n",
       "                        <td id=\"T_769f29ca_4385_11ea_a474_107d1a353dc0row3_col0\" class=\"data row3 col0\" >0.11</td>\n",
       "                        <td id=\"T_769f29ca_4385_11ea_a474_107d1a353dc0row3_col1\" class=\"data row3 col1\" >0.0019</td>\n",
       "                        <td id=\"T_769f29ca_4385_11ea_a474_107d1a353dc0row3_col2\" class=\"data row3 col2\" >0.14</td>\n",
       "                        <td id=\"T_769f29ca_4385_11ea_a474_107d1a353dc0row3_col3\" class=\"data row3 col3\" >1</td>\n",
       "                        <td id=\"T_769f29ca_4385_11ea_a474_107d1a353dc0row3_col4\" class=\"data row3 col4\" >0.056</td>\n",
       "                        <td id=\"T_769f29ca_4385_11ea_a474_107d1a353dc0row3_col5\" class=\"data row3 col5\" >0.19</td>\n",
       "                        <td id=\"T_769f29ca_4385_11ea_a474_107d1a353dc0row3_col6\" class=\"data row3 col6\" >0.2</td>\n",
       "                        <td id=\"T_769f29ca_4385_11ea_a474_107d1a353dc0row3_col7\" class=\"data row3 col7\" >0.36</td>\n",
       "                        <td id=\"T_769f29ca_4385_11ea_a474_107d1a353dc0row3_col8\" class=\"data row3 col8\" >-0.086</td>\n",
       "                        <td id=\"T_769f29ca_4385_11ea_a474_107d1a353dc0row3_col9\" class=\"data row3 col9\" >0.0055</td>\n",
       "                        <td id=\"T_769f29ca_4385_11ea_a474_107d1a353dc0row3_col10\" class=\"data row3 col10\" >0.042</td>\n",
       "                        <td id=\"T_769f29ca_4385_11ea_a474_107d1a353dc0row3_col11\" class=\"data row3 col11\" >0.014</td>\n",
       "            </tr>\n",
       "            <tr>\n",
       "                        <th id=\"T_769f29ca_4385_11ea_a474_107d1a353dc0level0_row4\" class=\"row_heading level0 row4\" >chlorides</th>\n",
       "                        <td id=\"T_769f29ca_4385_11ea_a474_107d1a353dc0row4_col0\" class=\"data row4 col0\" >0.094</td>\n",
       "                        <td id=\"T_769f29ca_4385_11ea_a474_107d1a353dc0row4_col1\" class=\"data row4 col1\" >0.061</td>\n",
       "                        <td id=\"T_769f29ca_4385_11ea_a474_107d1a353dc0row4_col2\" class=\"data row4 col2\" >0.2</td>\n",
       "                        <td id=\"T_769f29ca_4385_11ea_a474_107d1a353dc0row4_col3\" class=\"data row4 col3\" >0.056</td>\n",
       "                        <td id=\"T_769f29ca_4385_11ea_a474_107d1a353dc0row4_col4\" class=\"data row4 col4\" >1</td>\n",
       "                        <td id=\"T_769f29ca_4385_11ea_a474_107d1a353dc0row4_col5\" class=\"data row4 col5\" >0.0056</td>\n",
       "                        <td id=\"T_769f29ca_4385_11ea_a474_107d1a353dc0row4_col6\" class=\"data row4 col6\" >0.047</td>\n",
       "                        <td id=\"T_769f29ca_4385_11ea_a474_107d1a353dc0row4_col7\" class=\"data row4 col7\" >0.2</td>\n",
       "                        <td id=\"T_769f29ca_4385_11ea_a474_107d1a353dc0row4_col8\" class=\"data row4 col8\" >-0.27</td>\n",
       "                        <td id=\"T_769f29ca_4385_11ea_a474_107d1a353dc0row4_col9\" class=\"data row4 col9\" >0.37</td>\n",
       "                        <td id=\"T_769f29ca_4385_11ea_a474_107d1a353dc0row4_col10\" class=\"data row4 col10\" >-0.22</td>\n",
       "                        <td id=\"T_769f29ca_4385_11ea_a474_107d1a353dc0row4_col11\" class=\"data row4 col11\" >-0.13</td>\n",
       "            </tr>\n",
       "            <tr>\n",
       "                        <th id=\"T_769f29ca_4385_11ea_a474_107d1a353dc0level0_row5\" class=\"row_heading level0 row5\" >free sulfur dioxide</th>\n",
       "                        <td id=\"T_769f29ca_4385_11ea_a474_107d1a353dc0row5_col0\" class=\"data row5 col0\" >-0.15</td>\n",
       "                        <td id=\"T_769f29ca_4385_11ea_a474_107d1a353dc0row5_col1\" class=\"data row5 col1\" >-0.011</td>\n",
       "                        <td id=\"T_769f29ca_4385_11ea_a474_107d1a353dc0row5_col2\" class=\"data row5 col2\" >-0.061</td>\n",
       "                        <td id=\"T_769f29ca_4385_11ea_a474_107d1a353dc0row5_col3\" class=\"data row5 col3\" >0.19</td>\n",
       "                        <td id=\"T_769f29ca_4385_11ea_a474_107d1a353dc0row5_col4\" class=\"data row5 col4\" >0.0056</td>\n",
       "                        <td id=\"T_769f29ca_4385_11ea_a474_107d1a353dc0row5_col5\" class=\"data row5 col5\" >1</td>\n",
       "                        <td id=\"T_769f29ca_4385_11ea_a474_107d1a353dc0row5_col6\" class=\"data row5 col6\" >0.67</td>\n",
       "                        <td id=\"T_769f29ca_4385_11ea_a474_107d1a353dc0row5_col7\" class=\"data row5 col7\" >-0.022</td>\n",
       "                        <td id=\"T_769f29ca_4385_11ea_a474_107d1a353dc0row5_col8\" class=\"data row5 col8\" >0.07</td>\n",
       "                        <td id=\"T_769f29ca_4385_11ea_a474_107d1a353dc0row5_col9\" class=\"data row5 col9\" >0.052</td>\n",
       "                        <td id=\"T_769f29ca_4385_11ea_a474_107d1a353dc0row5_col10\" class=\"data row5 col10\" >-0.069</td>\n",
       "                        <td id=\"T_769f29ca_4385_11ea_a474_107d1a353dc0row5_col11\" class=\"data row5 col11\" >-0.051</td>\n",
       "            </tr>\n",
       "            <tr>\n",
       "                        <th id=\"T_769f29ca_4385_11ea_a474_107d1a353dc0level0_row6\" class=\"row_heading level0 row6\" >total sulfur dioxide</th>\n",
       "                        <td id=\"T_769f29ca_4385_11ea_a474_107d1a353dc0row6_col0\" class=\"data row6 col0\" >-0.11</td>\n",
       "                        <td id=\"T_769f29ca_4385_11ea_a474_107d1a353dc0row6_col1\" class=\"data row6 col1\" >0.076</td>\n",
       "                        <td id=\"T_769f29ca_4385_11ea_a474_107d1a353dc0row6_col2\" class=\"data row6 col2\" >0.036</td>\n",
       "                        <td id=\"T_769f29ca_4385_11ea_a474_107d1a353dc0row6_col3\" class=\"data row6 col3\" >0.2</td>\n",
       "                        <td id=\"T_769f29ca_4385_11ea_a474_107d1a353dc0row6_col4\" class=\"data row6 col4\" >0.047</td>\n",
       "                        <td id=\"T_769f29ca_4385_11ea_a474_107d1a353dc0row6_col5\" class=\"data row6 col5\" >0.67</td>\n",
       "                        <td id=\"T_769f29ca_4385_11ea_a474_107d1a353dc0row6_col6\" class=\"data row6 col6\" >1</td>\n",
       "                        <td id=\"T_769f29ca_4385_11ea_a474_107d1a353dc0row6_col7\" class=\"data row6 col7\" >0.071</td>\n",
       "                        <td id=\"T_769f29ca_4385_11ea_a474_107d1a353dc0row6_col8\" class=\"data row6 col8\" >-0.066</td>\n",
       "                        <td id=\"T_769f29ca_4385_11ea_a474_107d1a353dc0row6_col9\" class=\"data row6 col9\" >0.043</td>\n",
       "                        <td id=\"T_769f29ca_4385_11ea_a474_107d1a353dc0row6_col10\" class=\"data row6 col10\" >-0.21</td>\n",
       "                        <td id=\"T_769f29ca_4385_11ea_a474_107d1a353dc0row6_col11\" class=\"data row6 col11\" >-0.19</td>\n",
       "            </tr>\n",
       "            <tr>\n",
       "                        <th id=\"T_769f29ca_4385_11ea_a474_107d1a353dc0level0_row7\" class=\"row_heading level0 row7\" >density</th>\n",
       "                        <td id=\"T_769f29ca_4385_11ea_a474_107d1a353dc0row7_col0\" class=\"data row7 col0\" >0.67</td>\n",
       "                        <td id=\"T_769f29ca_4385_11ea_a474_107d1a353dc0row7_col1\" class=\"data row7 col1\" >0.022</td>\n",
       "                        <td id=\"T_769f29ca_4385_11ea_a474_107d1a353dc0row7_col2\" class=\"data row7 col2\" >0.36</td>\n",
       "                        <td id=\"T_769f29ca_4385_11ea_a474_107d1a353dc0row7_col3\" class=\"data row7 col3\" >0.36</td>\n",
       "                        <td id=\"T_769f29ca_4385_11ea_a474_107d1a353dc0row7_col4\" class=\"data row7 col4\" >0.2</td>\n",
       "                        <td id=\"T_769f29ca_4385_11ea_a474_107d1a353dc0row7_col5\" class=\"data row7 col5\" >-0.022</td>\n",
       "                        <td id=\"T_769f29ca_4385_11ea_a474_107d1a353dc0row7_col6\" class=\"data row7 col6\" >0.071</td>\n",
       "                        <td id=\"T_769f29ca_4385_11ea_a474_107d1a353dc0row7_col7\" class=\"data row7 col7\" >1</td>\n",
       "                        <td id=\"T_769f29ca_4385_11ea_a474_107d1a353dc0row7_col8\" class=\"data row7 col8\" >-0.34</td>\n",
       "                        <td id=\"T_769f29ca_4385_11ea_a474_107d1a353dc0row7_col9\" class=\"data row7 col9\" >0.15</td>\n",
       "                        <td id=\"T_769f29ca_4385_11ea_a474_107d1a353dc0row7_col10\" class=\"data row7 col10\" >-0.5</td>\n",
       "                        <td id=\"T_769f29ca_4385_11ea_a474_107d1a353dc0row7_col11\" class=\"data row7 col11\" >-0.17</td>\n",
       "            </tr>\n",
       "            <tr>\n",
       "                        <th id=\"T_769f29ca_4385_11ea_a474_107d1a353dc0level0_row8\" class=\"row_heading level0 row8\" >pH</th>\n",
       "                        <td id=\"T_769f29ca_4385_11ea_a474_107d1a353dc0row8_col0\" class=\"data row8 col0\" >-0.68</td>\n",
       "                        <td id=\"T_769f29ca_4385_11ea_a474_107d1a353dc0row8_col1\" class=\"data row8 col1\" >0.23</td>\n",
       "                        <td id=\"T_769f29ca_4385_11ea_a474_107d1a353dc0row8_col2\" class=\"data row8 col2\" >-0.54</td>\n",
       "                        <td id=\"T_769f29ca_4385_11ea_a474_107d1a353dc0row8_col3\" class=\"data row8 col3\" >-0.086</td>\n",
       "                        <td id=\"T_769f29ca_4385_11ea_a474_107d1a353dc0row8_col4\" class=\"data row8 col4\" >-0.27</td>\n",
       "                        <td id=\"T_769f29ca_4385_11ea_a474_107d1a353dc0row8_col5\" class=\"data row8 col5\" >0.07</td>\n",
       "                        <td id=\"T_769f29ca_4385_11ea_a474_107d1a353dc0row8_col6\" class=\"data row8 col6\" >-0.066</td>\n",
       "                        <td id=\"T_769f29ca_4385_11ea_a474_107d1a353dc0row8_col7\" class=\"data row8 col7\" >-0.34</td>\n",
       "                        <td id=\"T_769f29ca_4385_11ea_a474_107d1a353dc0row8_col8\" class=\"data row8 col8\" >1</td>\n",
       "                        <td id=\"T_769f29ca_4385_11ea_a474_107d1a353dc0row8_col9\" class=\"data row8 col9\" >-0.2</td>\n",
       "                        <td id=\"T_769f29ca_4385_11ea_a474_107d1a353dc0row8_col10\" class=\"data row8 col10\" >0.21</td>\n",
       "                        <td id=\"T_769f29ca_4385_11ea_a474_107d1a353dc0row8_col11\" class=\"data row8 col11\" >-0.058</td>\n",
       "            </tr>\n",
       "            <tr>\n",
       "                        <th id=\"T_769f29ca_4385_11ea_a474_107d1a353dc0level0_row9\" class=\"row_heading level0 row9\" >sulphates</th>\n",
       "                        <td id=\"T_769f29ca_4385_11ea_a474_107d1a353dc0row9_col0\" class=\"data row9 col0\" >0.18</td>\n",
       "                        <td id=\"T_769f29ca_4385_11ea_a474_107d1a353dc0row9_col1\" class=\"data row9 col1\" >-0.26</td>\n",
       "                        <td id=\"T_769f29ca_4385_11ea_a474_107d1a353dc0row9_col2\" class=\"data row9 col2\" >0.31</td>\n",
       "                        <td id=\"T_769f29ca_4385_11ea_a474_107d1a353dc0row9_col3\" class=\"data row9 col3\" >0.0055</td>\n",
       "                        <td id=\"T_769f29ca_4385_11ea_a474_107d1a353dc0row9_col4\" class=\"data row9 col4\" >0.37</td>\n",
       "                        <td id=\"T_769f29ca_4385_11ea_a474_107d1a353dc0row9_col5\" class=\"data row9 col5\" >0.052</td>\n",
       "                        <td id=\"T_769f29ca_4385_11ea_a474_107d1a353dc0row9_col6\" class=\"data row9 col6\" >0.043</td>\n",
       "                        <td id=\"T_769f29ca_4385_11ea_a474_107d1a353dc0row9_col7\" class=\"data row9 col7\" >0.15</td>\n",
       "                        <td id=\"T_769f29ca_4385_11ea_a474_107d1a353dc0row9_col8\" class=\"data row9 col8\" >-0.2</td>\n",
       "                        <td id=\"T_769f29ca_4385_11ea_a474_107d1a353dc0row9_col9\" class=\"data row9 col9\" >1</td>\n",
       "                        <td id=\"T_769f29ca_4385_11ea_a474_107d1a353dc0row9_col10\" class=\"data row9 col10\" >0.094</td>\n",
       "                        <td id=\"T_769f29ca_4385_11ea_a474_107d1a353dc0row9_col11\" class=\"data row9 col11\" >0.25</td>\n",
       "            </tr>\n",
       "            <tr>\n",
       "                        <th id=\"T_769f29ca_4385_11ea_a474_107d1a353dc0level0_row10\" class=\"row_heading level0 row10\" >alcohol</th>\n",
       "                        <td id=\"T_769f29ca_4385_11ea_a474_107d1a353dc0row10_col0\" class=\"data row10 col0\" >-0.062</td>\n",
       "                        <td id=\"T_769f29ca_4385_11ea_a474_107d1a353dc0row10_col1\" class=\"data row10 col1\" >-0.2</td>\n",
       "                        <td id=\"T_769f29ca_4385_11ea_a474_107d1a353dc0row10_col2\" class=\"data row10 col2\" >0.11</td>\n",
       "                        <td id=\"T_769f29ca_4385_11ea_a474_107d1a353dc0row10_col3\" class=\"data row10 col3\" >0.042</td>\n",
       "                        <td id=\"T_769f29ca_4385_11ea_a474_107d1a353dc0row10_col4\" class=\"data row10 col4\" >-0.22</td>\n",
       "                        <td id=\"T_769f29ca_4385_11ea_a474_107d1a353dc0row10_col5\" class=\"data row10 col5\" >-0.069</td>\n",
       "                        <td id=\"T_769f29ca_4385_11ea_a474_107d1a353dc0row10_col6\" class=\"data row10 col6\" >-0.21</td>\n",
       "                        <td id=\"T_769f29ca_4385_11ea_a474_107d1a353dc0row10_col7\" class=\"data row10 col7\" >-0.5</td>\n",
       "                        <td id=\"T_769f29ca_4385_11ea_a474_107d1a353dc0row10_col8\" class=\"data row10 col8\" >0.21</td>\n",
       "                        <td id=\"T_769f29ca_4385_11ea_a474_107d1a353dc0row10_col9\" class=\"data row10 col9\" >0.094</td>\n",
       "                        <td id=\"T_769f29ca_4385_11ea_a474_107d1a353dc0row10_col10\" class=\"data row10 col10\" >1</td>\n",
       "                        <td id=\"T_769f29ca_4385_11ea_a474_107d1a353dc0row10_col11\" class=\"data row10 col11\" >0.48</td>\n",
       "            </tr>\n",
       "            <tr>\n",
       "                        <th id=\"T_769f29ca_4385_11ea_a474_107d1a353dc0level0_row11\" class=\"row_heading level0 row11\" >quality</th>\n",
       "                        <td id=\"T_769f29ca_4385_11ea_a474_107d1a353dc0row11_col0\" class=\"data row11 col0\" >0.12</td>\n",
       "                        <td id=\"T_769f29ca_4385_11ea_a474_107d1a353dc0row11_col1\" class=\"data row11 col1\" >-0.39</td>\n",
       "                        <td id=\"T_769f29ca_4385_11ea_a474_107d1a353dc0row11_col2\" class=\"data row11 col2\" >0.23</td>\n",
       "                        <td id=\"T_769f29ca_4385_11ea_a474_107d1a353dc0row11_col3\" class=\"data row11 col3\" >0.014</td>\n",
       "                        <td id=\"T_769f29ca_4385_11ea_a474_107d1a353dc0row11_col4\" class=\"data row11 col4\" >-0.13</td>\n",
       "                        <td id=\"T_769f29ca_4385_11ea_a474_107d1a353dc0row11_col5\" class=\"data row11 col5\" >-0.051</td>\n",
       "                        <td id=\"T_769f29ca_4385_11ea_a474_107d1a353dc0row11_col6\" class=\"data row11 col6\" >-0.19</td>\n",
       "                        <td id=\"T_769f29ca_4385_11ea_a474_107d1a353dc0row11_col7\" class=\"data row11 col7\" >-0.17</td>\n",
       "                        <td id=\"T_769f29ca_4385_11ea_a474_107d1a353dc0row11_col8\" class=\"data row11 col8\" >-0.058</td>\n",
       "                        <td id=\"T_769f29ca_4385_11ea_a474_107d1a353dc0row11_col9\" class=\"data row11 col9\" >0.25</td>\n",
       "                        <td id=\"T_769f29ca_4385_11ea_a474_107d1a353dc0row11_col10\" class=\"data row11 col10\" >0.48</td>\n",
       "                        <td id=\"T_769f29ca_4385_11ea_a474_107d1a353dc0row11_col11\" class=\"data row11 col11\" >1</td>\n",
       "            </tr>\n",
       "    </tbody></table>"
      ],
      "text/plain": [
       "<pandas.io.formats.style.Styler at 0x1d86decbc50>"
      ]
     },
     "execution_count": 12,
     "metadata": {},
     "output_type": "execute_result"
    }
   ],
   "source": [
    "df.corr().style.background_gradient(cmap='YlGnBu').set_precision(2)"
   ]
  },
  {
   "cell_type": "code",
   "execution_count": 13,
   "metadata": {},
   "outputs": [
    {
     "data": {
      "text/plain": [
       "<matplotlib.axes._subplots.AxesSubplot at 0x1d86e749c50>"
      ]
     },
     "execution_count": 13,
     "metadata": {},
     "output_type": "execute_result"
    },
    {
     "data": {
      "image/png": "[encoded data removed]",
      "text/plain": [
       "<Figure size 432x288 with 1 Axes>"
      ]
     },
     "metadata": {
      "needs_background": "light"
     },
     "output_type": "display_data"
    }
   ],
   "source": [
    "sns.barplot(x='quality', y='volatile acidity', data=df)"
   ]
  },
  {
   "cell_type": "code",
   "execution_count": 14,
   "metadata": {},
   "outputs": [
    {
     "data": {
      "text/plain": [
       "<matplotlib.axes._subplots.AxesSubplot at 0x1d86e7f1908>"
      ]
     },
     "execution_count": 14,
     "metadata": {},
     "output_type": "execute_result"
    },
    {
     "data": {
      "image/png": "[encoded data removed]",
      "text/plain": [
       "<Figure size 432x288 with 1 Axes>"
      ]
     },
     "metadata": {
      "needs_background": "light"
     },
     "output_type": "display_data"
    }
   ],
   "source": [
    "sns.boxplot(x='quality', y='volatile acidity', data=df)"
   ]
  },
  {
   "cell_type": "code",
   "execution_count": 15,
   "metadata": {},
   "outputs": [
    {
     "data": {
      "text/plain": [
       "<matplotlib.axes._subplots.AxesSubplot at 0x1d86e8c2c50>"
      ]
     },
     "execution_count": 15,
     "metadata": {},
     "output_type": "execute_result"
    },
    {
     "data": {
      "image/png": "[encoded data removed]",
      "text/plain": [
       "<Figure size 432x288 with 1 Axes>"
      ]
     },
     "metadata": {
      "needs_background": "light"
     },
     "output_type": "display_data"
    }
   ],
   "source": [
    "sns.scatterplot(x='pH', y='volatile acidity', data=df)"
   ]
  },
  {
   "cell_type": "code",
   "execution_count": 16,
   "metadata": {},
   "outputs": [
    {
     "data": {
      "text/plain": [
       "<matplotlib.axes._subplots.AxesSubplot at 0x1d86e935b70>"
      ]
     },
     "execution_count": 16,
     "metadata": {},
     "output_type": "execute_result"
    },
    {
     "data": {
      "image/png": "[encoded data removed]",
      "text/plain": [
       "<Figure size 432x288 with 1 Axes>"
      ]
     },
     "metadata": {
      "needs_background": "light"
     },
     "output_type": "display_data"
    }
   ],
   "source": [
    "sns.barplot(x='quality', y='alcohol', data=df)"
   ]
  },
  {
   "cell_type": "code",
   "execution_count": 17,
   "metadata": {},
   "outputs": [
    {
     "data": {
      "text/plain": [
       "<matplotlib.axes._subplots.AxesSubplot at 0x1d86e9b1908>"
      ]
     },
     "execution_count": 17,
     "metadata": {},
     "output_type": "execute_result"
    },
    {
     "data": {
      "image/png": "[encoded data removed]",
      "text/plain": [
       "<Figure size 432x288 with 1 Axes>"
      ]
     },
     "metadata": {
      "needs_background": "light"
     },
     "output_type": "display_data"
    }
   ],
   "source": [
    "sns.barplot(x='quality', y='residual sugar', data=df)"
   ]
  },
  {
   "cell_type": "code",
   "execution_count": 18,
   "metadata": {},
   "outputs": [
    {
     "data": {
      "text/plain": [
       "<matplotlib.axes._subplots.AxesSubplot at 0x1d86ea07b70>"
      ]
     },
     "execution_count": 18,
     "metadata": {},
     "output_type": "execute_result"
    },
    {
     "data": {
      "image/png": "[encoded data removed]",
      "text/plain": [
       "<Figure size 432x288 with 1 Axes>"
      ]
     },
     "metadata": {
      "needs_background": "light"
     },
     "output_type": "display_data"
    }
   ],
   "source": [
    "sns.barplot(x='quality', y='free sulfur dioxide', data=df)"
   ]
  },
  {
   "cell_type": "code",
   "execution_count": 19,
   "metadata": {},
   "outputs": [
    {
     "data": {
      "text/plain": [
       "<matplotlib.axes._subplots.AxesSubplot at 0x1d86ea98b38>"
      ]
     },
     "execution_count": 19,
     "metadata": {},
     "output_type": "execute_result"
    },
    {
     "data": {
      "image/png": "[encoded data removed]",
      "text/plain": [
       "<Figure size 432x288 with 1 Axes>"
      ]
     },
     "metadata": {
      "needs_background": "light"
     },
     "output_type": "display_data"
    }
   ],
   "source": [
    "sns.boxplot(x='quality', y='free sulfur dioxide', data=df)"
   ]
  },
  {
   "cell_type": "code",
   "execution_count": 20,
   "metadata": {},
   "outputs": [
    {
     "data": {
      "text/plain": [
       "<matplotlib.axes._subplots.AxesSubplot at 0x1d86eb83ac8>"
      ]
     },
     "execution_count": 20,
     "metadata": {},
     "output_type": "execute_result"
    },
    {
     "data": {
      "image/png": "[encoded data removed]",
      "text/plain": [
       "<Figure size 432x288 with 1 Axes>"
      ]
     },
     "metadata": {
      "needs_background": "light"
     },
     "output_type": "display_data"
    }
   ],
   "source": [
    "df.loc[df['quality']<=4, 'Rating'] = 1\n",
    "df.loc[(df['quality']>=5) & (df['quality']<=6), 'Rating'] = 2\n",
    "df.loc[(df['quality']>=7) & (df['quality']<=8), 'Rating'] = 3\n",
    "sns.countplot(x='Rating', data=df)"
   ]
  },
  {
   "cell_type": "code",
   "execution_count": 21,
   "metadata": {},
   "outputs": [],
   "source": [
    "df.drop(columns=['quality'], inplace=True)"
   ]
  },
  {
   "cell_type": "code",
   "execution_count": 22,
   "metadata": {},
   "outputs": [
    {
     "data": {
      "text/plain": [
       "Index(['fixed acidity', 'volatile acidity', 'citric acid', 'residual sugar',\n",
       "       'chlorides', 'free sulfur dioxide', 'total sulfur dioxide', 'density',\n",
       "       'pH', 'sulphates', 'alcohol', 'Rating'],\n",
       "      dtype='object')"
      ]
     },
     "execution_count": 22,
     "metadata": {},
     "output_type": "execute_result"
    }
   ],
   "source": [
    "df.columns"
   ]
  },
  {
   "cell_type": "code",
   "execution_count": 23,
   "metadata": {},
   "outputs": [],
   "source": [
    "x = df.loc[:, ['fixed acidity', 'volatile acidity', 'citric acid', 'chlorides','total sulfur dioxide', 'density', 'sulphates', 'alcohol']]\n",
    "# x = df.iloc[:, :11]\n",
    "y = df['Rating']"
   ]
  },
  {
   "cell_type": "code",
   "execution_count": 24,
   "metadata": {},
   "outputs": [
    {
     "data": {
      "text/html": [
       "<div>\n",
       "<style scoped>\n",
       "    .dataframe tbody tr th:only-of-type {\n",
       "        vertical-align: middle;\n",
       "    }\n",
       "\n",
       "    .dataframe tbody tr th {\n",
       "        vertical-align: top;\n",
       "    }\n",
       "\n",
       "    .dataframe thead th {\n",
       "        text-align: right;\n",
       "    }\n",
       "</style>\n",
       "<table border=\"1\" class=\"dataframe\">\n",
       "  <thead>\n",
       "    <tr style=\"text-align: right;\">\n",
       "      <th></th>\n",
       "      <th>fixed acidity</th>\n",
       "      <th>volatile acidity</th>\n",
       "      <th>citric acid</th>\n",
       "      <th>chlorides</th>\n",
       "      <th>total sulfur dioxide</th>\n",
       "      <th>density</th>\n",
       "      <th>sulphates</th>\n",
       "      <th>alcohol</th>\n",
       "    </tr>\n",
       "  </thead>\n",
       "  <tbody>\n",
       "    <tr>\n",
       "      <th>0</th>\n",
       "      <td>7.4</td>\n",
       "      <td>0.70</td>\n",
       "      <td>0.00</td>\n",
       "      <td>0.076</td>\n",
       "      <td>34.0</td>\n",
       "      <td>0.9978</td>\n",
       "      <td>0.56</td>\n",
       "      <td>9.4</td>\n",
       "    </tr>\n",
       "    <tr>\n",
       "      <th>1</th>\n",
       "      <td>7.8</td>\n",
       "      <td>0.88</td>\n",
       "      <td>0.00</td>\n",
       "      <td>0.098</td>\n",
       "      <td>67.0</td>\n",
       "      <td>0.9968</td>\n",
       "      <td>0.68</td>\n",
       "      <td>9.8</td>\n",
       "    </tr>\n",
       "    <tr>\n",
       "      <th>2</th>\n",
       "      <td>7.8</td>\n",
       "      <td>0.76</td>\n",
       "      <td>0.04</td>\n",
       "      <td>0.092</td>\n",
       "      <td>54.0</td>\n",
       "      <td>0.9970</td>\n",
       "      <td>0.65</td>\n",
       "      <td>9.8</td>\n",
       "    </tr>\n",
       "    <tr>\n",
       "      <th>3</th>\n",
       "      <td>11.2</td>\n",
       "      <td>0.28</td>\n",
       "      <td>0.56</td>\n",
       "      <td>0.075</td>\n",
       "      <td>60.0</td>\n",
       "      <td>0.9980</td>\n",
       "      <td>0.58</td>\n",
       "      <td>9.8</td>\n",
       "    </tr>\n",
       "    <tr>\n",
       "      <th>4</th>\n",
       "      <td>7.4</td>\n",
       "      <td>0.70</td>\n",
       "      <td>0.00</td>\n",
       "      <td>0.076</td>\n",
       "      <td>34.0</td>\n",
       "      <td>0.9978</td>\n",
       "      <td>0.56</td>\n",
       "      <td>9.4</td>\n",
       "    </tr>\n",
       "  </tbody>\n",
       "</table>\n",
       "</div>"
      ],
      "text/plain": [
       "   fixed acidity  volatile acidity  citric acid  chlorides  \\\n",
       "0            7.4              0.70         0.00      0.076   \n",
       "1            7.8              0.88         0.00      0.098   \n",
       "2            7.8              0.76         0.04      0.092   \n",
       "3           11.2              0.28         0.56      0.075   \n",
       "4            7.4              0.70         0.00      0.076   \n",
       "\n",
       "   total sulfur dioxide  density  sulphates  alcohol  \n",
       "0                  34.0   0.9978       0.56      9.4  \n",
       "1                  67.0   0.9968       0.68      9.8  \n",
       "2                  54.0   0.9970       0.65      9.8  \n",
       "3                  60.0   0.9980       0.58      9.8  \n",
       "4                  34.0   0.9978       0.56      9.4  "
      ]
     },
     "execution_count": 24,
     "metadata": {},
     "output_type": "execute_result"
    }
   ],
   "source": [
    "x.head()"
   ]
  },
  {
   "cell_type": "code",
   "execution_count": 25,
   "metadata": {},
   "outputs": [
    {
     "data": {
      "text/plain": [
       "0    2.0\n",
       "1    2.0\n",
       "2    2.0\n",
       "3    2.0\n",
       "4    2.0\n",
       "Name: Rating, dtype: float64"
      ]
     },
     "execution_count": 25,
     "metadata": {},
     "output_type": "execute_result"
    }
   ],
   "source": [
    "y.head()"
   ]
  },
  {
   "cell_type": "code",
   "execution_count": 26,
   "metadata": {},
   "outputs": [],
   "source": [
    "from sklearn.preprocessing import StandardScaler\n",
    "\n",
    "sc = StandardScaler()\n",
    "x = sc.fit_transform(x)"
   ]
  },
  {
   "cell_type": "code",
   "execution_count": 27,
   "metadata": {},
   "outputs": [],
   "source": [
    "from sklearn.decomposition import PCA\n",
    "\n",
    "pca = PCA()\n",
    "x_pca = pca.fit_transform(x)"
   ]
  },
  {
   "cell_type": "code",
   "execution_count": 28,
   "metadata": {},
   "outputs": [
    {
     "data": {
      "image/png": "[encoded data removed]",
      "text/plain": [
       "<Figure size 720x720 with 1 Axes>"
      ]
     },
     "metadata": {
      "needs_background": "light"
     },
     "output_type": "display_data"
    }
   ],
   "source": [
    "import numpy as np\n",
    "\n",
    "plt.figure(figsize=(10,10))\n",
    "plt.plot(np.cumsum(pca.explained_variance_ratio_), 'ro-')\n",
    "plt.grid()"
   ]
  },
  {
   "cell_type": "code",
   "execution_count": 29,
   "metadata": {},
   "outputs": [],
   "source": [
    "pca_new = PCA(n_components=6)\n",
    "x_new = pca_new.fit_transform(x)"
   ]
  },
  {
   "cell_type": "code",
   "execution_count": 30,
   "metadata": {},
   "outputs": [],
   "source": [
    "from sklearn.model_selection import train_test_split\n",
    "x_train, x_test, y_train, y_test =  train_test_split(x_new, y, test_size=0.20)"
   ]
  },
  {
   "cell_type": "code",
   "execution_count": 31,
   "metadata": {},
   "outputs": [
    {
     "name": "stdout",
     "output_type": "stream",
     "text": [
      "(1279, 6)\n",
      "(320, 6)\n",
      "(1279,)\n",
      "(320,)\n"
     ]
    }
   ],
   "source": [
    "print(x_train.shape)\n",
    "print(x_test.shape)\n",
    "print(y_train.shape)\n",
    "print(y_test.shape)"
   ]
  },
  {
   "cell_type": "code",
   "execution_count": 32,
   "metadata": {},
   "outputs": [],
   "source": [
    "accuracy_dict = {}"
   ]
  },
  {
   "cell_type": "code",
   "execution_count": 33,
   "metadata": {},
   "outputs": [],
   "source": [
    "from sklearn.linear_model import LogisticRegression\n",
    "from sklearn.metrics import confusion_matrix, accuracy_score, classification_report\n",
    "\n",
    "lreg = LogisticRegression()\n",
    "lreg.fit(x_train, y_train)\n",
    "lreg_predict = lreg.predict(x_test)\n",
    "\n",
    "confusion_matrix_lreg = confusion_matrix(y_test, lreg_predict)\n",
    "accuracy_score_lreg = accuracy_score(y_test, lreg_predict)"
   ]
  },
  {
   "cell_type": "code",
   "execution_count": 34,
   "metadata": {},
   "outputs": [
    {
     "data": {
      "text/plain": [
       "array([[  0,  11,   0],\n",
       "       [  0, 258,  11],\n",
       "       [  0,  26,  14]], dtype=int64)"
      ]
     },
     "execution_count": 34,
     "metadata": {},
     "output_type": "execute_result"
    }
   ],
   "source": [
    "confusion_matrix_lreg"
   ]
  },
  {
   "cell_type": "code",
   "execution_count": 35,
   "metadata": {},
   "outputs": [
    {
     "data": {
      "text/plain": [
       "85.0"
      ]
     },
     "execution_count": 35,
     "metadata": {},
     "output_type": "execute_result"
    }
   ],
   "source": [
    "accuracy_score_lreg*100"
   ]
  },
  {
   "cell_type": "code",
   "execution_count": 36,
   "metadata": {},
   "outputs": [],
   "source": [
    "accuracy_dict['LogisticRegression'] = accuracy_score_lreg*100"
   ]
  },
  {
   "cell_type": "code",
   "execution_count": 37,
   "metadata": {},
   "outputs": [
    {
     "name": "stdout",
     "output_type": "stream",
     "text": [
      "              precision    recall  f1-score   support\n",
      "\n",
      "         1.0       0.00      0.00      0.00        11\n",
      "         2.0       0.87      0.96      0.91       269\n",
      "         3.0       0.56      0.35      0.43        40\n",
      "\n",
      "    accuracy                           0.85       320\n",
      "   macro avg       0.48      0.44      0.45       320\n",
      "weighted avg       0.81      0.85      0.82       320\n",
      "\n"
     ]
    },
    {
     "name": "stderr",
     "output_type": "stream",
     "text": [
      "C:\\Users\\agilist\\Anaconda3\\Lib\\site-packages\\sklearn\\metrics\\_classification.py:1268: UndefinedMetricWarning: Precision and F-score are ill-defined and being set to 0.0 in labels with no predicted samples. Use `zero_division` parameter to control this behavior.\n",
      "  _warn_prf(average, modifier, msg_start, len(result))\n"
     ]
    }
   ],
   "source": [
    "print(classification_report(y_test, lreg_predict))"
   ]
  },
  {
   "cell_type": "code",
   "execution_count": 38,
   "metadata": {},
   "outputs": [
    {
     "name": "stdout",
     "output_type": "stream",
     "text": [
      "Requirement already satisfied: imblearn in c:\\users\\agilist\\anaconda3\\lib\\site-packages (0.0)\n",
      "Requirement already satisfied: imbalanced-learn in c:\\users\\agilist\\anaconda3\\lib\\site-packages (from imblearn) (0.6.1)\n",
      "Requirement already satisfied: numpy>=1.11 in c:\\users\\agilist\\anaconda3\\lib\\site-packages (from imbalanced-learn->imblearn) (1.17.2)\n",
      "Requirement already satisfied: scikit-learn>=0.22 in c:\\users\\agilist\\anaconda3\\lib\\site-packages (from imbalanced-learn->imblearn) (0.22)\n",
      "Requirement already satisfied: joblib>=0.11 in c:\\users\\agilist\\anaconda3\\lib\\site-packages (from imbalanced-learn->imblearn) (0.13.2)\n",
      "Requirement already satisfied: scipy>=0.17 in c:\\users\\agilist\\anaconda3\\lib\\site-packages (from imbalanced-learn->imblearn) (1.3.1)\n"
     ]
    }
   ],
   "source": [
    "!pip install imblearn"
   ]
  },
  {
   "cell_type": "code",
   "execution_count": 39,
   "metadata": {},
   "outputs": [
    {
     "name": "stderr",
     "output_type": "stream",
     "text": [
      "Using TensorFlow backend.\n"
     ]
    }
   ],
   "source": [
    "from imblearn.over_sampling import SMOTE \n",
    "sm = SMOTE(random_state = 2) \n",
    "X_train_res, y_train_res = sm.fit_sample(x_train, y_train.ravel())"
   ]
  },
  {
   "cell_type": "code",
   "execution_count": 40,
   "metadata": {},
   "outputs": [
    {
     "name": "stdout",
     "output_type": "stream",
     "text": [
      "              precision    recall  f1-score   support\n",
      "\n",
      "         1.0       0.10      0.73      0.18        11\n",
      "         2.0       0.95      0.54      0.69       269\n",
      "         3.0       0.37      0.82      0.51        40\n",
      "\n",
      "    accuracy                           0.58       320\n",
      "   macro avg       0.47      0.70      0.46       320\n",
      "weighted avg       0.85      0.58      0.65       320\n",
      "\n"
     ]
    }
   ],
   "source": [
    "lr1 = LogisticRegression() \n",
    "lr1.fit(X_train_res, y_train_res.ravel()) \n",
    "predictions = lr1.predict(x_test) \n",
    "  \n",
    "print(classification_report(y_test, predictions))"
   ]
  },
  {
   "cell_type": "code",
   "execution_count": 41,
   "metadata": {},
   "outputs": [],
   "source": [
    "confusion_matrix_lreg_smote = confusion_matrix(y_test, predictions)\n",
    "accuracy_score_lreg_smote = accuracy_score(y_test, predictions)"
   ]
  },
  {
   "cell_type": "code",
   "execution_count": 42,
   "metadata": {},
   "outputs": [
    {
     "data": {
      "text/plain": [
       "array([[  8,   3,   0],\n",
       "       [ 68, 145,  56],\n",
       "       [  2,   5,  33]], dtype=int64)"
      ]
     },
     "execution_count": 42,
     "metadata": {},
     "output_type": "execute_result"
    }
   ],
   "source": [
    "confusion_matrix_lreg_smote"
   ]
  },
  {
   "cell_type": "code",
   "execution_count": 43,
   "metadata": {},
   "outputs": [
    {
     "data": {
      "text/plain": [
       "58.12500000000001"
      ]
     },
     "execution_count": 43,
     "metadata": {},
     "output_type": "execute_result"
    }
   ],
   "source": [
    "accuracy_score_lreg_smote*100"
   ]
  },
  {
   "cell_type": "code",
   "execution_count": 44,
   "metadata": {},
   "outputs": [],
   "source": [
    "accuracy_dict['LogisticRegression-SMOTE'] = accuracy_score_lreg_smote*100"
   ]
  },
  {
   "cell_type": "code",
   "execution_count": 45,
   "metadata": {},
   "outputs": [],
   "source": [
    "from sklearn.tree import DecisionTreeClassifier\n",
    "\n",
    "dtree = DecisionTreeClassifier()\n",
    "dtree.fit(x_train, y_train)\n",
    "dt_predict = dtree.predict(x_test)"
   ]
  },
  {
   "cell_type": "code",
   "execution_count": 46,
   "metadata": {},
   "outputs": [],
   "source": [
    "df_conf_matrix = confusion_matrix(y_test, dt_predict)\n",
    "df_acc_score = accuracy_score(y_test, dt_predict)"
   ]
  },
  {
   "cell_type": "code",
   "execution_count": 47,
   "metadata": {},
   "outputs": [
    {
     "data": {
      "text/plain": [
       "array([[  2,   9,   0],\n",
       "       [  6, 244,  19],\n",
       "       [  0,  23,  17]], dtype=int64)"
      ]
     },
     "execution_count": 47,
     "metadata": {},
     "output_type": "execute_result"
    }
   ],
   "source": [
    "df_conf_matrix"
   ]
  },
  {
   "cell_type": "code",
   "execution_count": 48,
   "metadata": {},
   "outputs": [
    {
     "data": {
      "text/plain": [
       "82.1875"
      ]
     },
     "execution_count": 48,
     "metadata": {},
     "output_type": "execute_result"
    }
   ],
   "source": [
    "df_acc_score*100"
   ]
  },
  {
   "cell_type": "code",
   "execution_count": 49,
   "metadata": {},
   "outputs": [],
   "source": [
    "accuracy_dict['DecisionTrees'] = df_acc_score*100"
   ]
  },
  {
   "cell_type": "code",
   "execution_count": 50,
   "metadata": {},
   "outputs": [
    {
     "name": "stdout",
     "output_type": "stream",
     "text": [
      "              precision    recall  f1-score   support\n",
      "\n",
      "         1.0       0.25      0.18      0.21        11\n",
      "         2.0       0.88      0.91      0.90       269\n",
      "         3.0       0.47      0.42      0.45        40\n",
      "\n",
      "    accuracy                           0.82       320\n",
      "   macro avg       0.54      0.50      0.52       320\n",
      "weighted avg       0.81      0.82      0.82       320\n",
      "\n"
     ]
    }
   ],
   "source": [
    "print(classification_report(y_test, dt_predict))"
   ]
  },
  {
   "cell_type": "code",
   "execution_count": 51,
   "metadata": {},
   "outputs": [],
   "source": [
    "from sklearn.naive_bayes import GaussianNB\n",
    "nb = GaussianNB()\n",
    "nb.fit(x_train,y_train)\n",
    "nb_predict=nb.predict(x_test)"
   ]
  },
  {
   "cell_type": "code",
   "execution_count": 52,
   "metadata": {},
   "outputs": [],
   "source": [
    "nb_conf_matrix = confusion_matrix(y_test, nb_predict)\n",
    "nb_acc_score = accuracy_score(y_test, nb_predict)"
   ]
  },
  {
   "cell_type": "code",
   "execution_count": 53,
   "metadata": {},
   "outputs": [
    {
     "data": {
      "text/plain": [
       "array([[  2,   9,   0],\n",
       "       [  2, 255,  12],\n",
       "       [  0,  21,  19]], dtype=int64)"
      ]
     },
     "execution_count": 53,
     "metadata": {},
     "output_type": "execute_result"
    }
   ],
   "source": [
    "nb_conf_matrix"
   ]
  },
  {
   "cell_type": "code",
   "execution_count": 54,
   "metadata": {},
   "outputs": [
    {
     "data": {
      "text/plain": [
       "86.25"
      ]
     },
     "execution_count": 54,
     "metadata": {},
     "output_type": "execute_result"
    }
   ],
   "source": [
    "nb_acc_score*100"
   ]
  },
  {
   "cell_type": "code",
   "execution_count": 55,
   "metadata": {},
   "outputs": [],
   "source": [
    "accuracy_dict['NaiveBayes'] = nb_acc_score*100"
   ]
  },
  {
   "cell_type": "code",
   "execution_count": 56,
   "metadata": {},
   "outputs": [
    {
     "name": "stdout",
     "output_type": "stream",
     "text": [
      "              precision    recall  f1-score   support\n",
      "\n",
      "         1.0       0.50      0.18      0.27        11\n",
      "         2.0       0.89      0.95      0.92       269\n",
      "         3.0       0.61      0.47      0.54        40\n",
      "\n",
      "    accuracy                           0.86       320\n",
      "   macro avg       0.67      0.53      0.57       320\n",
      "weighted avg       0.85      0.86      0.85       320\n",
      "\n"
     ]
    }
   ],
   "source": [
    "print(classification_report(y_test, nb_predict))"
   ]
  },
  {
   "cell_type": "code",
   "execution_count": 57,
   "metadata": {},
   "outputs": [],
   "source": [
    "from sklearn.ensemble import RandomForestClassifier\n",
    "rf = RandomForestClassifier()\n",
    "rf.fit(x_train, y_train)\n",
    "rf_predict=rf.predict(x_test)"
   ]
  },
  {
   "cell_type": "code",
   "execution_count": 58,
   "metadata": {},
   "outputs": [],
   "source": [
    "rf_conf_matrix = confusion_matrix(y_test, rf_predict)\n",
    "rf_acc_score = accuracy_score(y_test, rf_predict)"
   ]
  },
  {
   "cell_type": "code",
   "execution_count": 59,
   "metadata": {},
   "outputs": [
    {
     "data": {
      "text/plain": [
       "array([[  0,  11,   0],\n",
       "       [  1, 262,   6],\n",
       "       [  0,  17,  23]], dtype=int64)"
      ]
     },
     "execution_count": 59,
     "metadata": {},
     "output_type": "execute_result"
    }
   ],
   "source": [
    "rf_conf_matrix"
   ]
  },
  {
   "cell_type": "code",
   "execution_count": 60,
   "metadata": {},
   "outputs": [
    {
     "data": {
      "text/plain": [
       "89.0625"
      ]
     },
     "execution_count": 60,
     "metadata": {},
     "output_type": "execute_result"
    }
   ],
   "source": [
    "rf_acc_score*100"
   ]
  },
  {
   "cell_type": "code",
   "execution_count": 61,
   "metadata": {},
   "outputs": [],
   "source": [
    "accuracy_dict['RandomForest'] = rf_acc_score*100"
   ]
  },
  {
   "cell_type": "code",
   "execution_count": 62,
   "metadata": {},
   "outputs": [
    {
     "name": "stdout",
     "output_type": "stream",
     "text": [
      "              precision    recall  f1-score   support\n",
      "\n",
      "         1.0       0.00      0.00      0.00        11\n",
      "         2.0       0.90      0.97      0.94       269\n",
      "         3.0       0.79      0.57      0.67        40\n",
      "\n",
      "    accuracy                           0.89       320\n",
      "   macro avg       0.57      0.52      0.53       320\n",
      "weighted avg       0.86      0.89      0.87       320\n",
      "\n"
     ]
    }
   ],
   "source": [
    "print(classification_report(y_test, rf_predict))"
   ]
  },
  {
   "cell_type": "code",
   "execution_count": 63,
   "metadata": {},
   "outputs": [],
   "source": [
    "from sklearn.svm import SVC\n",
    "lin_svc = SVC()\n",
    "lin_svc.fit(x_train, y_train)\n",
    "lin_svc_predict=lin_svc.predict(x_test)"
   ]
  },
  {
   "cell_type": "code",
   "execution_count": 64,
   "metadata": {},
   "outputs": [],
   "source": [
    "lin_svc_conf_matrix = confusion_matrix(y_test, lin_svc_predict)\n",
    "lin_svc_acc_score = accuracy_score(y_test, lin_svc_predict)"
   ]
  },
  {
   "cell_type": "code",
   "execution_count": 65,
   "metadata": {},
   "outputs": [
    {
     "data": {
      "text/plain": [
       "array([[  0,  11,   0],\n",
       "       [  0, 264,   5],\n",
       "       [  0,  28,  12]], dtype=int64)"
      ]
     },
     "execution_count": 65,
     "metadata": {},
     "output_type": "execute_result"
    }
   ],
   "source": [
    "lin_svc_conf_matrix"
   ]
  },
  {
   "cell_type": "code",
   "execution_count": 66,
   "metadata": {},
   "outputs": [
    {
     "data": {
      "text/plain": [
       "86.25"
      ]
     },
     "execution_count": 66,
     "metadata": {},
     "output_type": "execute_result"
    }
   ],
   "source": [
    "lin_svc_acc_score*100"
   ]
  },
  {
   "cell_type": "code",
   "execution_count": 67,
   "metadata": {},
   "outputs": [],
   "source": [
    "accuracy_dict['SVM'] = lin_svc_acc_score*100"
   ]
  },
  {
   "cell_type": "code",
   "execution_count": 68,
   "metadata": {},
   "outputs": [
    {
     "name": "stdout",
     "output_type": "stream",
     "text": [
      "              precision    recall  f1-score   support\n",
      "\n",
      "         1.0       0.00      0.00      0.00        11\n",
      "         2.0       0.87      0.98      0.92       269\n",
      "         3.0       0.71      0.30      0.42        40\n",
      "\n",
      "    accuracy                           0.86       320\n",
      "   macro avg       0.53      0.43      0.45       320\n",
      "weighted avg       0.82      0.86      0.83       320\n",
      "\n"
     ]
    },
    {
     "name": "stderr",
     "output_type": "stream",
     "text": [
      "C:\\Users\\agilist\\Anaconda3\\Lib\\site-packages\\sklearn\\metrics\\_classification.py:1268: UndefinedMetricWarning: Precision and F-score are ill-defined and being set to 0.0 in labels with no predicted samples. Use `zero_division` parameter to control this behavior.\n",
      "  _warn_prf(average, modifier, msg_start, len(result))\n"
     ]
    }
   ],
   "source": [
    "print(classification_report(y_test, lin_svc_predict))"
   ]
  },
  {
   "cell_type": "code",
   "execution_count": 69,
   "metadata": {},
   "outputs": [],
   "source": [
    "from xgboost import XGBClassifier\n",
    "xgb = XGBClassifier()\n",
    "xgb.fit(x_train, y_train)\n",
    "xgb_predict = xgb.predict(x_test)"
   ]
  },
  {
   "cell_type": "code",
   "execution_count": 70,
   "metadata": {},
   "outputs": [],
   "source": [
    "xgb_conf_matrix = confusion_matrix(y_test, xgb_predict)\n",
    "xgb_acc_score = accuracy_score(y_test, xgb_predict)"
   ]
  },
  {
   "cell_type": "code",
   "execution_count": 71,
   "metadata": {},
   "outputs": [
    {
     "data": {
      "text/plain": [
       "86.5625"
      ]
     },
     "execution_count": 71,
     "metadata": {},
     "output_type": "execute_result"
    }
   ],
   "source": [
    "xgb_acc_score*100"
   ]
  },
  {
   "cell_type": "code",
   "execution_count": 72,
   "metadata": {},
   "outputs": [
    {
     "data": {
      "text/plain": [
       "array([[  0,  11,   0],\n",
       "       [  0, 258,  11],\n",
       "       [  0,  21,  19]], dtype=int64)"
      ]
     },
     "execution_count": 72,
     "metadata": {},
     "output_type": "execute_result"
    }
   ],
   "source": [
    "xgb_conf_matrix"
   ]
  },
  {
   "cell_type": "code",
   "execution_count": 73,
   "metadata": {},
   "outputs": [],
   "source": [
    "accuracy_dict['XGBoost'] = xgb_acc_score*100"
   ]
  },
  {
   "cell_type": "code",
   "execution_count": 74,
   "metadata": {},
   "outputs": [
    {
     "name": "stdout",
     "output_type": "stream",
     "text": [
      "LogisticRegression --- 85.0 %\n",
      "LogisticRegression-SMOTE --- 58.13 %\n",
      "DecisionTrees --- 82.19 %\n",
      "NaiveBayes --- 86.25 %\n",
      "RandomForest --- 89.06 %\n",
      "SVM --- 86.25 %\n",
      "XGBoost --- 86.56 %\n"
     ]
    }
   ],
   "source": [
    "for algo, acc in accuracy_dict.items():\n",
    "    print(algo, '---', round(acc,2),'%')"
   ]
  },
  {
   "cell_type": "code",
   "execution_count": 75,
   "metadata": {},
   "outputs": [
    {
     "name": "stdout",
     "output_type": "stream",
     "text": [
      "n_estimators:  50   88.125 %\n",
      "n_estimators:  100   87.5 %\n",
      "n_estimators:  250   87.8125 %\n",
      "n_estimators:  400   87.8125 %\n",
      "n_estimators:  700   87.5 %\n"
     ]
    }
   ],
   "source": [
    "n_estimators_list = [50, 100, 250, 400, 700]\n",
    "for estimator in n_estimators_list:\n",
    "    rf = RandomForestClassifier(n_estimators=estimator)\n",
    "    rf.fit(x_train, y_train)\n",
    "    rf_predict=rf.predict(x_test)\n",
    "    rf_conf_matrix = confusion_matrix(y_test, rf_predict)\n",
    "    rf_acc_score = accuracy_score(y_test, rf_predict)\n",
    "    print(\"n_estimators: \", estimator, ' ', rf_acc_score*100, '%')"
   ]
  },
  {
   "cell_type": "code",
   "execution_count": 76,
   "metadata": {},
   "outputs": [
    {
     "name": "stdout",
     "output_type": "stream",
     "text": [
      "n_estimators: 100 random_state:  10   87.1875 %\n",
      "n_estimators: 100 random_state:  20   88.125 %\n",
      "n_estimators: 100 random_state:  30   87.5 %\n",
      "n_estimators: 100 random_state:  40   87.1875 %\n",
      "n_estimators: 100 random_state:  50   87.1875 %\n"
     ]
    }
   ],
   "source": [
    "random_state_list = [10,20,30,40,50]\n",
    "for random_state in random_state_list:\n",
    "    rf = RandomForestClassifier(n_estimators=100, random_state=random_state)\n",
    "    rf.fit(x_train, y_train)\n",
    "    rf_predict=rf.predict(x_test)\n",
    "    rf_conf_matrix = confusion_matrix(y_test, rf_predict)\n",
    "    rf_acc_score = accuracy_score(y_test, rf_predict)\n",
    "    print(\"n_estimators: 100 random_state: \", random_state, ' ', rf_acc_score*100, '%')"
   ]
  }
 ],
 "metadata": {
  "kernelspec": {
   "display_name": "Python 3",
   "language": "python",
   "name": "python3"
  },
  "language_info": {
   "codemirror_mode": {
    "name": "ipython",
    "version": 3
   },
   "file_extension": ".py",
   "mimetype": "text/x-python",
   "name": "python",
   "nbconvert_exporter": "python",
   "pygments_lexer": "ipython3",
   "version": "3.6.9"
  }
 },
 "nbformat": 4,
 "nbformat_minor": 2
}
